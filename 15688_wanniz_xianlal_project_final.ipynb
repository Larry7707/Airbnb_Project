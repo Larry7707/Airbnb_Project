{
 "cells": [
  {
   "cell_type": "markdown",
   "metadata": {
    "colab_type": "text",
    "id": "w38ZcnBp8YuK"
   },
   "source": [
    "# 15-688 Final Project: Predicting Airbnb New Listing Quality\n",
    "**Team Member:** <br>\n",
    "Wanni Zhang - Andrew ID: wannniz <br>\n",
    "Xianla(Larry) Li - Andrew ID: xianlal\n",
    "\n",
    "\n"
   ]
  },
  {
   "cell_type": "markdown",
   "metadata": {
    "colab_type": "text",
    "id": "poMLBUIg_1qx"
   },
   "source": [
    "## Introduction"
   ]
  },
  {
   "cell_type": "markdown",
   "metadata": {
    "colab_type": "text",
    "id": "6IjY0w8N-eny"
   },
   "source": [
    "It is pretty hard to evaluate quality of new listings when they have few reviews and the ratings cannot relects their quality persuasively. How to help customers identify listings with good qualities is a major problem. In this project, we will apply machine learning alogorithms to solve this problem. <br>\n",
    "To be more specific, the goal of our project is to learn what are the features of high quality listings on Airbnb. This will be used to predict the quality of new listings when there's no ratings from guests, which is helpful for users to make a decision whether to book the new listing or not. <br>\n",
    "The report of our project will be oraganised in following parts:\n",
    " - [Introduction](#Introduction)\n",
    " - [Data Scraping](#Data-Scraping)\n",
    " - [Data Cleaning](#Data-Cleaning)\n",
    " - [Data Exploration and Analysis](#Data-Mining-and-Problems)\n",
    " - [Results](#Results)<br>\n",
    " <br>\n",
    " The packages and tools we will use for this project is loaded below.\n",
    " "
   ]
  },
  {
   "cell_type": "code",
   "execution_count": 6,
   "metadata": {
    "colab": {
     "autoexec": {
      "startup": false,
      "wait_interval": 0
     },
     "base_uri": "https://localhost:8080/",
     "height": 70
    },
    "colab_type": "code",
    "executionInfo": {
     "elapsed": 418,
     "status": "ok",
     "timestamp": 1526090689013,
     "user": {
      "displayName": "Xianla Li",
      "photoUrl": "https://lh3.googleusercontent.com/a/default-user=s128",
      "userId": "111273054959580992110"
     },
     "user_tz": 240
    },
    "id": "SN6-GWofVNj5",
    "outputId": "0374c217-3ce0-4eb9-a9d5-1ad0ef110a46"
   },
   "outputs": [
    {
     "name": "stdout",
     "output_type": "stream",
     "text": [
      "[nltk_data] Downloading package punkt to\n",
      "[nltk_data]     C:\\Users\\Wanni\\AppData\\Roaming\\nltk_data...\n",
      "[nltk_data]   Package punkt is already up-to-date!\n"
     ]
    },
    {
     "data": {
      "text/plain": [
       "True"
      ]
     },
     "execution_count": 6,
     "metadata": {},
     "output_type": "execute_result"
    }
   ],
   "source": [
    "import io, time, json, re\n",
    "import requests\n",
    "from bs4 import BeautifulSoup\n",
    "import pandas as pd\n",
    "import numpy as np\n",
    "import matplotlib\n",
    "%matplotlib inline\n",
    "import matplotlib.pyplot as plt\n",
    "from datetime import datetime, date\n",
    "import nltk\n",
    "from collections import Counter\n",
    "import string\n",
    "# nltk.download('punkt') # for google colab, no need for local use"
   ]
  },
  {
   "cell_type": "markdown",
   "metadata": {
    "colab_type": "text",
    "id": "cZos3xiUN14a"
   },
   "source": [
    "## Data Scraping\n",
    "The first step of our project is data scraping. We will refer to majorly three websits for data:\n",
    " - \n",
    "\n",
    "We scrape data of Airbnb listings in San Francisco (and other nearby cities) from the [unofficial API](https://stevesie.com/apps/airbnb-api). Since the only query variable is the location, and we found with a single location, the API will only scrape 300 listings each time, we decided to use several districts in San Francisco as the query input, to get as many listings as possible. By checking the listing ID, the duplicated results from the response are removed.\n",
    "\n",
    "After parsing the response of a single query, we write a function do extract useful data from all the response"
   ]
  },
  {
   "cell_type": "code",
   "execution_count": 2,
   "metadata": {
    "colab": {
     "autoexec": {
      "startup": false,
      "wait_interval": 0
     }
    },
    "colab_type": "code",
    "collapsed": true,
    "id": "3z2ecc37C20R"
   },
   "outputs": [],
   "source": [
    "def scraping_data(locations):\n",
    "    \"\"\" Scraping data from https://api.airbnb.com/ by locations\n",
    "    Inputs:\n",
    "        locations - a list of location to query data\n",
    "    Outputs:\n",
    "        ans - scraped data from Airbnb\n",
    "        ids - a set of unique ids of listings\n",
    "        home_data - listings' general information\n",
    "    \"\"\"\n",
    "    ans = []\n",
    "    home_data = []\n",
    "    ids = set()\n",
    "    for loc in locations:\n",
    "        print('Now getting: %s'%loc)\n",
    "        offset = 0\n",
    "        while(True):\n",
    "            headers = {'Accept': 'application/json', 'Accept-Encoding': 'gzip, deflate',\n",
    "               'Accept-Language':'en-us', 'Connection':'keep-alive',\n",
    "               'Host':'api.airbnb.com', 'User-Agent': 'Airbnb/17.11 iPhone/10.2.1 Type/Phone',\n",
    "               'X-Airbnb-API-Key': 'd306zoyjsyarp7ifhu67rjxn52tv0t20',\n",
    "               'X-Airbnb-Carrier-Country':'us', 'X-Airbnb-Currency':'USD',\n",
    "               'X-Airbnb-Locale':'en',\n",
    "               'X-Airbnb-Network-Type':'wifi'}\n",
    "            url = 'https://api.airbnb.com/v2/explore_tabs?currency=USD&items_per_grid=100&key=d306zoyjsyarp7ifhu67rjxn52tv0t20'\\\n",
    "            + '&location={}San%20Francisco%2C%20CA%2C%20United%20States&section_offset={}&'.format(loc,offset) \\\n",
    "            + 'supports_for_you_v3=true&tab_id=home_tab&timezone_offset=300&version=1.3.4'\n",
    "            time.sleep(0.200)\n",
    "            re = requests.get(url, headers=headers)\n",
    "            data = re.json()['explore_tabs']\n",
    "            listings, ids, home_metadata = process_data(data, ids)\n",
    "            ans.extend(listings)\n",
    "            home_data.extend(home_metadata)\n",
    "            if len(listings) == 0:\n",
    "                break\n",
    "            elif data[0]['pagination_metadata']['has_next_page'] == True:\n",
    "                offset += 1\n",
    "            else:\n",
    "                break\n",
    "        time.sleep(1.000)\n",
    "    return ans, ids, home_data"
   ]
  },
  {
   "cell_type": "code",
   "execution_count": 3,
   "metadata": {
    "colab": {
     "autoexec": {
      "startup": false,
      "wait_interval": 0
     }
    },
    "colab_type": "code",
    "collapsed": true,
    "id": "yJuzHJkhC1ze"
   },
   "outputs": [],
   "source": [
    "def process_data(data, ids):\n",
    "    \"\"\" Process scraped data\n",
    "    Inputs:\n",
    "        data - dict-like json file to process\n",
    "        ids - a set of unique ids\n",
    "    Outputs:\n",
    "        ans - listing data\n",
    "        ids - updated set of unique ids\n",
    "        home_metadata - listing general info\n",
    "    \"\"\"\n",
    "    ans = []\n",
    "    home_metadata = []\n",
    "    for section in data[0]['sections']:\n",
    "        if section['listings']:\n",
    "            for listing in section['listings']:\n",
    "                if listing['listing']['id'] not in ids:\n",
    "                    ans.append(listing)\n",
    "                    ids.add(listing['listing']['id'])\n",
    "                    home_metadata.append(data[0]['home_tab_metadata'])\n",
    "    print('listings number: ',len(ans))\n",
    "    return ans, ids, home_metadata"
   ]
  },
  {
   "cell_type": "code",
   "execution_count": null,
   "metadata": {
    "colab": {
     "autoexec": {
      "startup": false,
      "wait_interval": 0
     }
    },
    "colab_type": "code",
    "collapsed": true,
    "id": "crHyozD2Dofv"
   },
   "outputs": [],
   "source": [
    "locations = ['North%20Beach%2C%20', 'Richmond%20District%2C%20', 'Financial%20District%2C%20',\n",
    "                 'Laurel%20Heights%2C%20', 'Sunset%20District%2C%20', 'Mission%20District%2C%20', \n",
    "                 'Outer%20Mission%2C%20', 'Cow%20Hollow%2C%20', \n",
    "                 'Noe%20Valley%2C%20', 'Haight%2C%20', 'Hunters%20Point%2C%20', 'Bernal%20Heights%2C%20']\n",
    "listings, ids, home_data = scraping_data(locations)\n",
    "\n",
    "# from google.colab import files # ignore this for normal jupyter notebook\n",
    "# with open('listings.json', 'w') as file:\n",
    "#     json.dump(listings, file)\n",
    "# files.download('listings.json') # ignore this for normal jupyter notebook\n",
    "# with open('home_data.json', 'w') as file:\n",
    "#     json.dump(home_data, file) \n",
    "# files.download('home_data.json') # ignore this for normal jupyter notebook"
   ]
  },
  {
   "cell_type": "markdown",
   "metadata": {
    "colab_type": "text",
    "id": "vj7YzZr9ETsQ"
   },
   "source": [
    "We saved the useful results in json files. So here we just load the files to avoid scraping again. (Feel free to run the cell above if you want to try scraping yourself)"
   ]
  },
  {
   "cell_type": "markdown",
   "metadata": {},
   "source": [
    "## Data Cleaning\n",
    "After scraping, we're going to clean and process the data for anlaysis."
   ]
  },
  {
   "cell_type": "code",
   "execution_count": 18,
   "metadata": {
    "colab": {
     "autoexec": {
      "startup": false,
      "wait_interval": 0
     },
     "base_uri": "https://localhost:8080/",
     "height": 91,
     "resources": {
      "http://localhost:8080/nbextensions/google.colab/files.js": {
       "data": "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",
       "headers": [
        [
         "content-type",
         "application/javascript"
        ]
       ],
       "ok": true,
       "status": 200,
       "status_text": ""
      }
     }
    },
    "colab_type": "code",
    "executionInfo": {
     "elapsed": 52607,
     "status": "ok",
     "timestamp": 1526072467861,
     "user": {
      "displayName": "Wanni Zhang",
      "photoUrl": "//lh6.googleusercontent.com/-fyBiQRwhBvk/AAAAAAAAAAI/AAAAAAAAAGs/5gq2mIyrkro/s50-c-k-no/photo.jpg",
      "userId": "112142218024900944183"
     },
     "user_tz": 240
    },
    "id": "zMECzoJLE5fm",
    "outputId": "fd9b3a36-0956-499a-a0b6-288296476472"
   },
   "outputs": [
    {
     "data": {
      "text/html": [
       "\n",
       "     <input type=\"file\" id=\"files-aaac8c5b-8380-4419-a0b0-e5524223277a\" name=\"files[]\" multiple disabled />\n",
       "     <output id=\"result-aaac8c5b-8380-4419-a0b0-e5524223277a\">\n",
       "      Upload widget is only available when the cell has been executed in the\n",
       "      current browser session. Please rerun this cell to enable.\n",
       "      </output>\n",
       "      <script src=\"/nbextensions/google.colab/files.js\"></script> "
      ],
      "text/plain": [
       "<IPython.core.display.HTML object>"
      ]
     },
     "metadata": {
      "tags": []
     },
     "output_type": "display_data"
    },
    {
     "name": "stdout",
     "output_type": "stream",
     "text": [
      "Saving listings.json to listings (1).json\n",
      "User uploaded file \"listings.json\"\n"
     ]
    }
   ],
   "source": [
    "# Ignore this. \n",
    "from google.colab import files\n",
    "uploaded = files.upload()\n",
    "for fn in uploaded.keys():\n",
    "    print('User uploaded file \"{name}\"'.format(name=fn))\n",
    "# Ignore this."
   ]
  },
  {
   "cell_type": "code",
   "execution_count": 8,
   "metadata": {
    "collapsed": true
   },
   "outputs": [],
   "source": [
    "with open('listings.json', 'r') as file:\n",
    "    listings = json.load(file)"
   ]
  },
  {
   "cell_type": "code",
   "execution_count": 0,
   "metadata": {
    "colab": {
     "autoexec": {
      "startup": false,
      "wait_interval": 0
     }
    },
    "colab_type": "code",
    "collapsed": true,
    "id": "mOZEJY9yOULZ"
   },
   "outputs": [],
   "source": [
    "# listings = json.loads(uploaded['listings.json'].decode(\"utf-8\"))"
   ]
  },
  {
   "cell_type": "markdown",
   "metadata": {
    "colab_type": "text",
    "id": "YOFB6Gh0NlUs"
   },
   "source": [
    "The file `listings` contains data for all listings collected (2394 linstings) . "
   ]
  },
  {
   "cell_type": "code",
   "execution_count": 20,
   "metadata": {
    "colab": {
     "autoexec": {
      "startup": false,
      "wait_interval": 0
     },
     "base_uri": "https://localhost:8080/",
     "height": 52
    },
    "colab_type": "code",
    "executionInfo": {
     "elapsed": 267,
     "status": "ok",
     "timestamp": 1526072476803,
     "user": {
      "displayName": "Wanni Zhang",
      "photoUrl": "//lh6.googleusercontent.com/-fyBiQRwhBvk/AAAAAAAAAAI/AAAAAAAAAGs/5gq2mIyrkro/s50-c-k-no/photo.jpg",
      "userId": "112142218024900944183"
     },
     "user_tz": 240
    },
    "id": "tZaAJj_hOS6V",
    "outputId": "2e5f3e19-7ca5-4ada-d740-159c84d6b7bd"
   },
   "outputs": [
    {
     "name": "stdout",
     "output_type": "stream",
     "text": [
      "number of listings:  2394\n",
      "dict_keys(['listing', 'pricing_quote', 'verified', 'verified_card'])\n"
     ]
    }
   ],
   "source": [
    "print('number of listings: ', len(listings))\n",
    "print(listings[0].keys())"
   ]
  },
  {
   "cell_type": "markdown",
   "metadata": {
    "colab_type": "text",
    "id": "yGzQvNevCsaJ"
   },
   "source": [
    "There are four sections in each listing.`listing` contains the most features for the property, and `pricing_quote` contains the information for the price of the listing. `verified `and `verified_card` have information for the host. Most of the useful information is stored in the first two sections. The features are showed as follows."
   ]
  },
  {
   "cell_type": "code",
   "execution_count": 9,
   "metadata": {
    "colab": {
     "autoexec": {
      "startup": false,
      "wait_interval": 0
     },
     "base_uri": "https://localhost:8080/",
     "height": 72
    },
    "colab_type": "code",
    "executionInfo": {
     "elapsed": 256,
     "status": "ok",
     "timestamp": 1526072479849,
     "user": {
      "displayName": "Wanni Zhang",
      "photoUrl": "//lh6.googleusercontent.com/-fyBiQRwhBvk/AAAAAAAAAAI/AAAAAAAAAGs/5gq2mIyrkro/s50-c-k-no/photo.jpg",
      "userId": "112142218024900944183"
     },
     "user_tz": 240
    },
    "id": "Fbr6fve2GBfR",
    "outputId": "e8c8e2fe-e908-4044-c71e-fcdfcef20666",
    "scrolled": true
   },
   "outputs": [
    {
     "name": "stdout",
     "output_type": "stream",
     "text": [
      "dict_keys(['badges', 'bathroom_label', 'bathrooms', 'bed_label', 'bedroom_label', 'bedrooms', 'beds', 'city', 'detailed_rating', 'guest_label', 'host_languages', 'host_thumbnail_url_small', 'host_thumbnail_url', 'id', 'is_business_travel_ready', 'is_fully_refundable', 'is_host_highly_rated', 'is_new_listing', 'is_rebookable', 'is_superhost', 'kicker_content', 'lat', 'lng', 'localized_city', 'localized_neighborhood', 'main_section_message', 'name', 'neighborhood', 'person_capacity', 'picture_count', 'picture_url', 'picture_urls', 'picture', 'preview_amenities', 'preview_encoded_png', 'property_type_id', 'reviews_count', 'room_and_property_type', 'room_type_category', 'room_type', 'scrim_color', 'show_structured_name', 'space_type', 'star_rating', 'tier_id', 'user'])\n",
      "dict_keys(['can_instant_book', 'monthly_price_factor', 'price', 'price_string', 'rate', 'rate_type', 'rate_with_service_fee', 'weekly_price_factor'])\n"
     ]
    }
   ],
   "source": [
    "print(listings[0]['listing'].keys())\n",
    "print(listings[0]['pricing_quote'].keys())"
   ]
  },
  {
   "cell_type": "markdown",
   "metadata": {
    "colab_type": "text",
    "id": "1e2D1UfMOPn7"
   },
   "source": [
    "From all the information provided, we selected some features that are most relevant for evaluating the quality of the listing, including features about the property itself, it's neighborhood, and the host. The function below extracts the features from all listings and stored them in a dataframe.\n"
   ]
  },
  {
   "cell_type": "code",
   "execution_count": 10,
   "metadata": {
    "colab": {
     "autoexec": {
      "startup": false,
      "wait_interval": 0
     }
    },
    "colab_type": "code",
    "collapsed": true,
    "id": "C84CXTifUXNf"
   },
   "outputs": [],
   "source": [
    "def extract_listing_features(listings):\n",
    "    d = {'host_id':[],'has_profile_pic':[],'can_instant_book':[],'price':[],'rate_type':[]}\n",
    "    feature_names = ['id', 'bathrooms', 'bedrooms', 'beds', 'person_capacity', 'is_fully_refundable',\n",
    "                     'room_and_property_type', 'room_type_category','city', ''\n",
    "                     'is_host_highly_rated', 'is_superhost', 'is_new_listing', 'neighborhood', \n",
    "                     'property_type_id', 'tier_id', 'picture_count', 'preview_amenities', 'star_rating']\n",
    "    host_features = ['host_id', 'first_name', 'has_profile_pic']\n",
    "    for i, home in enumerate(listings):\n",
    "        for feature in feature_names:\n",
    "            if feature not in d:\n",
    "                d[feature] = []\n",
    "            d[feature].append(home['listing'][feature])\n",
    "        d['host_id'].append(home['listing']['user']['id'])\n",
    "        d['has_profile_pic'].append(home['listing']['user']['has_profile_pic'])\n",
    "        d['can_instant_book'].append(home['pricing_quote']['can_instant_book'])\n",
    "        d['price'].append(home['pricing_quote']['rate_with_service_fee']['amount'])\n",
    "        d['rate_type'].append(home['pricing_quote']['rate_type'])\n",
    "    df = pd.DataFrame.from_dict(d)\n",
    "    return df"
   ]
  },
  {
   "cell_type": "markdown",
   "metadata": {
    "colab_type": "text",
    "id": "rZfguv9eXFMh"
   },
   "source": [
    "The features we extracted are as follows and the `star_rating` is the label to predict for each listing."
   ]
  },
  {
   "cell_type": "code",
   "execution_count": 11,
   "metadata": {
    "colab": {
     "autoexec": {
      "startup": false,
      "wait_interval": 0
     },
     "base_uri": "https://localhost:8080/",
     "height": 503
    },
    "colab_type": "code",
    "executionInfo": {
     "elapsed": 278,
     "status": "ok",
     "timestamp": 1526079365183,
     "user": {
      "displayName": "Wanni Zhang",
      "photoUrl": "//lh6.googleusercontent.com/-fyBiQRwhBvk/AAAAAAAAAAI/AAAAAAAAAGs/5gq2mIyrkro/s50-c-k-no/photo.jpg",
      "userId": "112142218024900944183"
     },
     "user_tz": 240
    },
    "id": "jxK4TqBjVpQz",
    "outputId": "fed6ab7c-68d6-4bf1-abaa-4055ad0eda82"
   },
   "outputs": [
    {
     "name": "stdout",
     "output_type": "stream",
     "text": [
      "<class 'pandas.core.frame.DataFrame'>\n",
      "RangeIndex: 2394 entries, 0 to 2393\n",
      "Data columns (total 23 columns):\n",
      "bathrooms                 2385 non-null float64\n",
      "bedrooms                  2394 non-null int64\n",
      "beds                      2393 non-null float64\n",
      "can_instant_book          2394 non-null bool\n",
      "city                      2394 non-null object\n",
      "has_profile_pic           2394 non-null bool\n",
      "host_id                   2394 non-null int64\n",
      "id                        2394 non-null int64\n",
      "is_fully_refundable       2394 non-null bool\n",
      "is_host_highly_rated      2394 non-null bool\n",
      "is_new_listing            2394 non-null bool\n",
      "is_superhost              2394 non-null bool\n",
      "neighborhood              2394 non-null object\n",
      "person_capacity           2394 non-null int64\n",
      "picture_count             2394 non-null int64\n",
      "preview_amenities         2394 non-null object\n",
      "price                     2394 non-null int64\n",
      "property_type_id          2394 non-null int64\n",
      "rate_type                 2394 non-null object\n",
      "room_and_property_type    2394 non-null object\n",
      "room_type_category        2394 non-null object\n",
      "star_rating               2125 non-null float64\n",
      "tier_id                   2394 non-null int64\n",
      "dtypes: bool(6), float64(3), int64(8), object(6)\n",
      "memory usage: 332.1+ KB\n"
     ]
    }
   ],
   "source": [
    "df = extract_listing_features(listings)\n",
    "df.info()"
   ]
  },
  {
   "cell_type": "markdown",
   "metadata": {
    "colab_type": "text",
    "id": "Dx59M6dN_uPO"
   },
   "source": [
    "Clearly, there are some missing values in the feature `beds`, `bathrooms` and `star_ratings`, so we remove the listings with missing value.\n",
    "\n"
   ]
  },
  {
   "cell_type": "code",
   "execution_count": 12,
   "metadata": {
    "colab": {
     "autoexec": {
      "startup": false,
      "wait_interval": 0
     },
     "base_uri": "https://localhost:8080/",
     "height": 433
    },
    "colab_type": "code",
    "executionInfo": {
     "elapsed": 261,
     "status": "ok",
     "timestamp": 1526079368963,
     "user": {
      "displayName": "Wanni Zhang",
      "photoUrl": "//lh6.googleusercontent.com/-fyBiQRwhBvk/AAAAAAAAAAI/AAAAAAAAAGs/5gq2mIyrkro/s50-c-k-no/photo.jpg",
      "userId": "112142218024900944183"
     },
     "user_tz": 240
    },
    "id": "xcSRMnlzY1Hb",
    "outputId": "d3a25f9e-67bc-4e9a-dd26-3498cf6ceb21"
   },
   "outputs": [
    {
     "data": {
      "text/plain": [
       "bathrooms                 False\n",
       "bedrooms                  False\n",
       "beds                      False\n",
       "can_instant_book          False\n",
       "city                      False\n",
       "has_profile_pic           False\n",
       "host_id                   False\n",
       "id                        False\n",
       "is_fully_refundable       False\n",
       "is_host_highly_rated      False\n",
       "is_new_listing            False\n",
       "is_superhost              False\n",
       "neighborhood              False\n",
       "person_capacity           False\n",
       "picture_count             False\n",
       "preview_amenities         False\n",
       "price                     False\n",
       "property_type_id          False\n",
       "rate_type                 False\n",
       "room_and_property_type    False\n",
       "room_type_category        False\n",
       "star_rating               False\n",
       "tier_id                   False\n",
       "dtype: bool"
      ]
     },
     "execution_count": 12,
     "metadata": {},
     "output_type": "execute_result"
    }
   ],
   "source": [
    "df = df[pd.notnull(df['beds'])]\n",
    "df = df[pd.notnull(df['bathrooms'])]\n",
    "df = df[pd.notnull(df['star_rating'])]\n",
    "df = df.reset_index(drop=True)\n",
    "df.isnull().any()"
   ]
  },
  {
   "cell_type": "code",
   "execution_count": 13,
   "metadata": {
    "colab": {
     "autoexec": {
      "startup": false,
      "wait_interval": 0
     },
     "base_uri": "https://localhost:8080/",
     "height": 309
    },
    "colab_type": "code",
    "executionInfo": {
     "elapsed": 280,
     "status": "ok",
     "timestamp": 1526079376615,
     "user": {
      "displayName": "Wanni Zhang",
      "photoUrl": "//lh6.googleusercontent.com/-fyBiQRwhBvk/AAAAAAAAAAI/AAAAAAAAAGs/5gq2mIyrkro/s50-c-k-no/photo.jpg",
      "userId": "112142218024900944183"
     },
     "user_tz": 240
    },
    "id": "EE5mqUrbDcqR",
    "outputId": "4f445f64-87e1-401a-c4f7-f33fc7f2c913"
   },
   "outputs": [
    {
     "data": {
      "text/html": [
       "<div>\n",
       "<style scoped>\n",
       "    .dataframe tbody tr th:only-of-type {\n",
       "        vertical-align: middle;\n",
       "    }\n",
       "\n",
       "    .dataframe tbody tr th {\n",
       "        vertical-align: top;\n",
       "    }\n",
       "\n",
       "    .dataframe thead th {\n",
       "        text-align: right;\n",
       "    }\n",
       "</style>\n",
       "<table border=\"1\" class=\"dataframe\">\n",
       "  <thead>\n",
       "    <tr style=\"text-align: right;\">\n",
       "      <th></th>\n",
       "      <th>bathrooms</th>\n",
       "      <th>bedrooms</th>\n",
       "      <th>beds</th>\n",
       "      <th>can_instant_book</th>\n",
       "      <th>city</th>\n",
       "      <th>has_profile_pic</th>\n",
       "      <th>host_id</th>\n",
       "      <th>id</th>\n",
       "      <th>is_fully_refundable</th>\n",
       "      <th>is_host_highly_rated</th>\n",
       "      <th>is_new_listing</th>\n",
       "      <th>is_superhost</th>\n",
       "      <th>neighborhood</th>\n",
       "      <th>person_capacity</th>\n",
       "      <th>picture_count</th>\n",
       "      <th>preview_amenities</th>\n",
       "      <th>price</th>\n",
       "      <th>property_type_id</th>\n",
       "      <th>rate_type</th>\n",
       "      <th>room_and_property_type</th>\n",
       "      <th>room_type_category</th>\n",
       "      <th>star_rating</th>\n",
       "      <th>tier_id</th>\n",
       "    </tr>\n",
       "  </thead>\n",
       "  <tbody>\n",
       "    <tr>\n",
       "      <th>0</th>\n",
       "      <td>1.0</td>\n",
       "      <td>1</td>\n",
       "      <td>1.0</td>\n",
       "      <td>True</td>\n",
       "      <td>San Francisco</td>\n",
       "      <td>True</td>\n",
       "      <td>1569866</td>\n",
       "      <td>18656474</td>\n",
       "      <td>False</td>\n",
       "      <td>True</td>\n",
       "      <td>False</td>\n",
       "      <td>True</td>\n",
       "      <td>Telegraph Hill</td>\n",
       "      <td>2</td>\n",
       "      <td>6</td>\n",
       "      <td>Wifi, Kitchen, Hair dryer</td>\n",
       "      <td>110</td>\n",
       "      <td>1</td>\n",
       "      <td>nightly</td>\n",
       "      <td>Private room in apartment</td>\n",
       "      <td>private_room</td>\n",
       "      <td>5.0</td>\n",
       "      <td>0</td>\n",
       "    </tr>\n",
       "    <tr>\n",
       "      <th>1</th>\n",
       "      <td>1.0</td>\n",
       "      <td>1</td>\n",
       "      <td>1.0</td>\n",
       "      <td>False</td>\n",
       "      <td>San Francisco</td>\n",
       "      <td>True</td>\n",
       "      <td>136792470</td>\n",
       "      <td>19591783</td>\n",
       "      <td>False</td>\n",
       "      <td>True</td>\n",
       "      <td>False</td>\n",
       "      <td>False</td>\n",
       "      <td>Telegraph Hill</td>\n",
       "      <td>2</td>\n",
       "      <td>6</td>\n",
       "      <td>Wifi, Hair dryer</td>\n",
       "      <td>132</td>\n",
       "      <td>67</td>\n",
       "      <td>nightly</td>\n",
       "      <td>Private room in tiny house</td>\n",
       "      <td>private_room</td>\n",
       "      <td>5.0</td>\n",
       "      <td>0</td>\n",
       "    </tr>\n",
       "    <tr>\n",
       "      <th>2</th>\n",
       "      <td>1.0</td>\n",
       "      <td>1</td>\n",
       "      <td>1.0</td>\n",
       "      <td>False</td>\n",
       "      <td>San Francisco</td>\n",
       "      <td>True</td>\n",
       "      <td>31531759</td>\n",
       "      <td>6074750</td>\n",
       "      <td>False</td>\n",
       "      <td>False</td>\n",
       "      <td>False</td>\n",
       "      <td>True</td>\n",
       "      <td>Telegraph Hill</td>\n",
       "      <td>2</td>\n",
       "      <td>10</td>\n",
       "      <td>Wifi, Hair dryer</td>\n",
       "      <td>99</td>\n",
       "      <td>2</td>\n",
       "      <td>nightly</td>\n",
       "      <td>Private room in house</td>\n",
       "      <td>private_room</td>\n",
       "      <td>4.5</td>\n",
       "      <td>0</td>\n",
       "    </tr>\n",
       "    <tr>\n",
       "      <th>3</th>\n",
       "      <td>1.0</td>\n",
       "      <td>1</td>\n",
       "      <td>1.0</td>\n",
       "      <td>True</td>\n",
       "      <td>San Francisco</td>\n",
       "      <td>True</td>\n",
       "      <td>136470616</td>\n",
       "      <td>20936337</td>\n",
       "      <td>False</td>\n",
       "      <td>True</td>\n",
       "      <td>False</td>\n",
       "      <td>True</td>\n",
       "      <td>Telegraph Hill</td>\n",
       "      <td>2</td>\n",
       "      <td>8</td>\n",
       "      <td>Wifi, Kitchen, Hair dryer</td>\n",
       "      <td>69</td>\n",
       "      <td>1</td>\n",
       "      <td>nightly</td>\n",
       "      <td>Private room in apartment</td>\n",
       "      <td>private_room</td>\n",
       "      <td>4.5</td>\n",
       "      <td>0</td>\n",
       "    </tr>\n",
       "    <tr>\n",
       "      <th>4</th>\n",
       "      <td>1.0</td>\n",
       "      <td>1</td>\n",
       "      <td>1.0</td>\n",
       "      <td>True</td>\n",
       "      <td>San Francisco</td>\n",
       "      <td>True</td>\n",
       "      <td>6796236</td>\n",
       "      <td>21459964</td>\n",
       "      <td>False</td>\n",
       "      <td>True</td>\n",
       "      <td>False</td>\n",
       "      <td>False</td>\n",
       "      <td>Telegraph Hill</td>\n",
       "      <td>1</td>\n",
       "      <td>9</td>\n",
       "      <td>Wifi, Kitchen, Hair dryer</td>\n",
       "      <td>176</td>\n",
       "      <td>37</td>\n",
       "      <td>nightly</td>\n",
       "      <td>Private room in condominium</td>\n",
       "      <td>private_room</td>\n",
       "      <td>5.0</td>\n",
       "      <td>0</td>\n",
       "    </tr>\n",
       "  </tbody>\n",
       "</table>\n",
       "</div>"
      ],
      "text/plain": [
       "   bathrooms  bedrooms  beds  can_instant_book           city  \\\n",
       "0        1.0         1   1.0              True  San Francisco   \n",
       "1        1.0         1   1.0             False  San Francisco   \n",
       "2        1.0         1   1.0             False  San Francisco   \n",
       "3        1.0         1   1.0              True  San Francisco   \n",
       "4        1.0         1   1.0              True  San Francisco   \n",
       "\n",
       "   has_profile_pic    host_id        id  is_fully_refundable  \\\n",
       "0             True    1569866  18656474                False   \n",
       "1             True  136792470  19591783                False   \n",
       "2             True   31531759   6074750                False   \n",
       "3             True  136470616  20936337                False   \n",
       "4             True    6796236  21459964                False   \n",
       "\n",
       "   is_host_highly_rated  is_new_listing  is_superhost    neighborhood  \\\n",
       "0                  True           False          True  Telegraph Hill   \n",
       "1                  True           False         False  Telegraph Hill   \n",
       "2                 False           False          True  Telegraph Hill   \n",
       "3                  True           False          True  Telegraph Hill   \n",
       "4                  True           False         False  Telegraph Hill   \n",
       "\n",
       "   person_capacity  picture_count          preview_amenities  price  \\\n",
       "0                2              6  Wifi, Kitchen, Hair dryer    110   \n",
       "1                2              6           Wifi, Hair dryer    132   \n",
       "2                2             10           Wifi, Hair dryer     99   \n",
       "3                2              8  Wifi, Kitchen, Hair dryer     69   \n",
       "4                1              9  Wifi, Kitchen, Hair dryer    176   \n",
       "\n",
       "   property_type_id rate_type       room_and_property_type room_type_category  \\\n",
       "0                 1   nightly    Private room in apartment       private_room   \n",
       "1                67   nightly   Private room in tiny house       private_room   \n",
       "2                 2   nightly        Private room in house       private_room   \n",
       "3                 1   nightly    Private room in apartment       private_room   \n",
       "4                37   nightly  Private room in condominium       private_room   \n",
       "\n",
       "   star_rating  tier_id  \n",
       "0          5.0        0  \n",
       "1          5.0        0  \n",
       "2          4.5        0  \n",
       "3          4.5        0  \n",
       "4          5.0        0  "
      ]
     },
     "execution_count": 13,
     "metadata": {},
     "output_type": "execute_result"
    }
   ],
   "source": [
    "df.head()"
   ]
  },
  {
   "cell_type": "markdown",
   "metadata": {
    "colab_type": "text",
    "id": "WMJ4J616DaZU"
   },
   "source": [
    "There are still some features in the dataframe that need processing. First we review the categorical features. Since for some classifiers, the cateorical features need be binarized (one-hot encoding), but when the number of category is large, it's not appropiate to do one-hot encoding or there will be too many sparse features."
   ]
  },
  {
   "cell_type": "code",
   "execution_count": 14,
   "metadata": {
    "colab": {
     "autoexec": {
      "startup": false,
      "wait_interval": 0
     },
     "base_uri": "https://localhost:8080/",
     "height": 329
    },
    "colab_type": "code",
    "executionInfo": {
     "elapsed": 327,
     "status": "ok",
     "timestamp": 1526079379817,
     "user": {
      "displayName": "Wanni Zhang",
      "photoUrl": "//lh6.googleusercontent.com/-fyBiQRwhBvk/AAAAAAAAAAI/AAAAAAAAAGs/5gq2mIyrkro/s50-c-k-no/photo.jpg",
      "userId": "112142218024900944183"
     },
     "user_tz": 240
    },
    "id": "NFBAwMk5IXgn",
    "outputId": "17e0a5c5-6575-44d1-b766-9f344b953773"
   },
   "outputs": [
    {
     "name": "stdout",
     "output_type": "stream",
     "text": [
      "city: ['San Francisco' 'Daly City' 'San bruno']\n",
      "neighborhood: ['Telegraph Hill' 'North Beach' 'Financial District' 'Presidio'\n",
      " 'Richmond District' 'Western Addition/NOPA' 'Presidio Heights'\n",
      " 'Pacific Heights' 'Cow Hollow' 'South Beach' 'Marina' 'Outer Sunset'\n",
      " 'Inner Sunset' 'Twin Peaks' 'Cole Valley' 'Haight-Ashbury'\n",
      " 'Mission District' 'SoMa' 'Bayview' 'Potrero Hill' 'Dogpatch'\n",
      " 'Mission Bay' 'Excelsior' 'Mission Terrace' 'Daly City' 'Bernal Heights'\n",
      " 'Visitacion Valley' 'Glen Park' 'Sunnyside' 'Portola' \"Fisherman's Wharf\"\n",
      " 'Russian Hill' 'The Castro' 'Noe Valley' 'Duboce Triangle' 'Hayes Valley']\n",
      "preview_amenities: ['Wifi, Kitchen, Hair dryer' 'Wifi, Hair dryer' 'Wifi, Kitchen' 'Wifi'\n",
      " 'Free parking on premises, Wifi, Kitchen, Hair dryer' ''\n",
      " 'Free parking on premises, Wifi, Kitchen'\n",
      " 'Free parking on premises, Wifi, Hair dryer' 'Kitchen, Hair dryer'\n",
      " 'Free parking on premises, Wifi' 'Kitchen']\n",
      "rate_type: ['nightly']\n",
      "property_type_id: [ 1 67  2 37  3 53 40 36 47 45 43 56 33  6 35 42 65 38  4 60 41 11  5]\n",
      "room_type_category: ['private_room' 'shared_room' 'entire_home']\n",
      "tier_id: [0 1]\n"
     ]
    }
   ],
   "source": [
    "print('city:', df['city'].unique())\n",
    "print('neighborhood:', df['neighborhood'].unique())\n",
    "print('preview_amenities:', df['preview_amenities'].unique())\n",
    "print('rate_type:', df['rate_type'].unique())\n",
    "print('property_type_id:', df['property_type_id'].unique())\n",
    "print('room_type_category:', df['room_type_category'].unique())\n",
    "print('tier_id:', df['tier_id'].unique())"
   ]
  },
  {
   "cell_type": "markdown",
   "metadata": {
    "colab_type": "text",
    "id": "GbcQGZRpKgPe"
   },
   "source": [
    "So, for `city`,` room_type_category`, and `tier_id`, we can do one-hot encoding directly, and for `rate_type`, since there's only one type, we can remove this feature. For `preview_amenities`, only four amenties show up, so we can process the string and convert this feature into three features of bool type: has_Wifi, has_kitchen, has_Free parking on premises and has_hair dryer, plus one numeric feature: num_of_preview_amenities. There are too many categories in `property_type_id` and `neighborhood`, so we need to do some feature engineering for these two features. "
   ]
  },
  {
   "cell_type": "code",
   "execution_count": 15,
   "metadata": {
    "colab": {
     "autoexec": {
      "startup": false,
      "wait_interval": 0
     }
    },
    "colab_type": "code",
    "collapsed": true,
    "id": "9afuy89ZZzFX"
   },
   "outputs": [],
   "source": [
    "# process the amenities\n",
    "A = pd.Series([tuple(s.split(', ')) if s else () for s in df['preview_amenities']])\n",
    "B = A.apply(lambda x: len(x)).rename('amenities_num')\n",
    "wifi = A.apply(lambda a: 'Wifi' in a).rename('wifi')\n",
    "parking = A.apply(lambda a: 'Free parking on premises' in a).rename('free_parking')\n",
    "kitchen = A.apply(lambda a: 'Kitchen' in a).rename('kitchen')\n",
    "hair_dryer = A.apply(lambda a: 'Hair dryer' in a).rename('hair_dryer')\n",
    "amenities = pd.concat([B, wifi, parking, kitchen, hair_dryer], axis=1)\n",
    "df2 = pd.concat([df, amenities], axis=1)"
   ]
  },
  {
   "cell_type": "markdown",
   "metadata": {
    "colab_type": "text",
    "id": "845C6MzBPPgW"
   },
   "source": [
    "For `property_type_id`, we extract the name for each property type from the feature  `room_and_property_type` and try to classify these property types into a few categories based on some feature"
   ]
  },
  {
   "cell_type": "code",
   "execution_count": 16,
   "metadata": {
    "colab": {
     "autoexec": {
      "startup": false,
      "wait_interval": 0
     }
    },
    "colab_type": "code",
    "collapsed": true,
    "id": "5tz28kHJQtNq"
   },
   "outputs": [],
   "source": [
    "def get_property(df):\n",
    "    df['room_and_property_type'] = df['room_and_property_type'].apply(lambda x: x.lower())\n",
    "    properties = []\n",
    "    for i in range(len(df)):\n",
    "        t = df['room_and_property_type'].iloc[i]\n",
    "        if t.find(' in ') != -1:\n",
    "            properties.append(t.split(' in ')[1])\n",
    "        elif t.find(' ') != -1:\n",
    "            s = t.split(' ',1)[0]\n",
    "            if s.startswith('private') or s.startswith('entire') or s.startswith('shared'):\n",
    "                properties.append(t.split(' ', 1)[1])\n",
    "            else:\n",
    "                properties.append(t)\n",
    "        else:\n",
    "            properties.append(t)\n",
    "    properties = pd.Series(properties).rename('property_type')\n",
    "    return pd.concat([df,properties], axis=1)\n",
    "\n",
    "df2 = get_property(df2)"
   ]
  },
  {
   "cell_type": "markdown",
   "metadata": {
    "colab_type": "text",
    "id": "5-3dNke5R12a"
   },
   "source": [
    "Let's check whether the name of property and the property_id is a one-to-one correspondence."
   ]
  },
  {
   "cell_type": "code",
   "execution_count": 17,
   "metadata": {
    "colab": {
     "autoexec": {
      "startup": false,
      "wait_interval": 0
     },
     "base_uri": "https://localhost:8080/",
     "height": 312
    },
    "colab_type": "code",
    "executionInfo": {
     "elapsed": 403,
     "status": "ok",
     "timestamp": 1526079884979,
     "user": {
      "displayName": "Wanni Zhang",
      "photoUrl": "//lh6.googleusercontent.com/-fyBiQRwhBvk/AAAAAAAAAAI/AAAAAAAAAGs/5gq2mIyrkro/s50-c-k-no/photo.jpg",
      "userId": "112142218024900944183"
     },
     "user_tz": 240
    },
    "id": "0oGxqgf_Q5VS",
    "outputId": "aef289e9-c36a-4895-ae09-d6dfd7f28457"
   },
   "outputs": [
    {
     "name": "stdout",
     "output_type": "stream",
     "text": [
      "room  -->  place\n",
      "room  -->  place\n",
      "bed and breakfast  -->  bed & breakfast\n",
      "bed and breakfast  -->  bed & breakfast\n",
      "bed and breakfast  -->  bed & breakfast\n",
      "bed and breakfast  -->  bed & breakfast\n",
      "bed and breakfast  -->  bed & breakfast\n",
      "bed and breakfast  -->  bed & breakfast\n",
      "bed and breakfast  -->  bed & breakfast\n",
      "bed and breakfast  -->  bed & breakfast\n",
      "bed and breakfast  -->  bed & breakfast\n",
      "bed and breakfast  -->  bed & breakfast\n",
      "bed and breakfast  -->  bed & breakfast\n",
      "bed and breakfast  -->  bed & breakfast\n",
      "room  -->  place\n",
      "bed and breakfast  -->  bed & breakfast\n",
      "room  -->  place\n"
     ]
    }
   ],
   "source": [
    "property_dict = {}\n",
    "for i in df2.index:\n",
    "    ptype = df2['property_type'].loc[i]\n",
    "    pid = df2['property_type_id'].loc[i]\n",
    "    if pid in property_dict:\n",
    "        if property_dict[pid] != ptype:\n",
    "            print(property_dict[pid],' --> ', ptype)\n",
    "    else:\n",
    "        property_dict[pid] = ptype"
   ]
  },
  {
   "cell_type": "markdown",
   "metadata": {
    "colab_type": "text",
    "id": "5KbFaBI7SET0"
   },
   "source": [
    "So basically we interpret the property type correctly (the 'room' and 'place' are for 'private room' and 'private place'). Then we classify the types into three classes: basic, quality and premium, based on their quality."
   ]
  },
  {
   "cell_type": "code",
   "execution_count": 18,
   "metadata": {
    "colab": {
     "autoexec": {
      "startup": false,
      "wait_interval": 0
     },
     "base_uri": "https://localhost:8080/",
     "height": 121
    },
    "colab_type": "code",
    "executionInfo": {
     "elapsed": 305,
     "status": "ok",
     "timestamp": 1526079889429,
     "user": {
      "displayName": "Wanni Zhang",
      "photoUrl": "//lh6.googleusercontent.com/-fyBiQRwhBvk/AAAAAAAAAAI/AAAAAAAAAGs/5gq2mIyrkro/s50-c-k-no/photo.jpg",
      "userId": "112142218024900944183"
     },
     "user_tz": 240
    },
    "id": "RjWquW1sWBxx",
    "outputId": "e560a7d2-cec3-4d6f-ed63-c3e492028df8"
   },
   "outputs": [
    {
     "data": {
      "text/plain": [
       "array(['apartment', 'tiny house', 'house', 'condominium',\n",
       "       'bed and breakfast', 'guest suite', 'guesthouse', 'townhouse',\n",
       "       'serviced apartment', 'hostel', 'boutique hotel', 'aparthotel',\n",
       "       'room', 'treehouse', 'loft', 'hotel', 'resort', 'place',\n",
       "       'bungalow', 'cabin', 'cottage', 'floor', 'bed & breakfast',\n",
       "       'villa', 'castle'], dtype=object)"
      ]
     },
     "execution_count": 18,
     "metadata": {},
     "output_type": "execute_result"
    }
   ],
   "source": [
    "df2['property_type'].unique()"
   ]
  },
  {
   "cell_type": "code",
   "execution_count": 19,
   "metadata": {
    "colab": {
     "autoexec": {
      "startup": false,
      "wait_interval": 0
     }
    },
    "colab_type": "code",
    "collapsed": true,
    "id": "_qQlSTrXYRCZ"
   },
   "outputs": [],
   "source": [
    "basic = ['bed and breakfast','room','loft','hostel','place','cabin','floor','bed & breakfast',\n",
    "         'treehouse','bungalow','cottage','tiny house']\n",
    "quality = ['apartment','house','condominium','guest suite', 'guesthouse','townhouse','aparthotel','hotel']\n",
    "premium = ['serviced apartment','boutique hotel','villa', 'castle','resort']\n",
    "\n",
    "def replace_property(p):\n",
    "    return 'basic' if p in basic else 'quality' if p in quality else 'premium'\n",
    "\n",
    "df2['property_type'] = df2['property_type'].apply(replace_property)"
   ]
  },
  {
   "cell_type": "code",
   "execution_count": 20,
   "metadata": {
    "colab": {
     "autoexec": {
      "startup": false,
      "wait_interval": 0
     }
    },
    "colab_type": "code",
    "collapsed": true,
    "id": "4RFsGGdzbgcG"
   },
   "outputs": [],
   "source": [
    "# drop the useless columns\n",
    "# 'is_fully_refundable' contains only False, and 'is_new_listing' only has False, so dropped\n",
    "df_clean = df2.drop(columns=['rate_type','is_fully_refundable', 'room_and_property_type','is_new_listing',\n",
    "                             'property_type_id','preview_amenities'])"
   ]
  },
  {
   "cell_type": "markdown",
   "metadata": {
    "colab_type": "text",
    "id": "GCFv1q72WNEm"
   },
   "source": [
    "**Convert `Neighborhood` to numerical values**\n"
   ]
  },
  {
   "cell_type": "markdown",
   "metadata": {
    "colab_type": "text",
    "id": "cYctMhsbWdMC"
   },
   "source": [
    "`Neighborhood` is one of the most important attributes in listings. As we said, we found there are over 30 unique categories in our this feature. Thus, we considered the possible impact of `Neighborhood` and decided to interpreted it as four attributes: `walk_score`, `transit_socre`, `bike_score` and `crime_rate`. We mannally checked the scores on [walkscore](https://www.walkscore.com/) and [crimemapping](https://www.crimemapping.com/) given that the workload is smaller than wrting a scraper to get the data. The unique values in `neighborhood` is shown below.\n",
    "\n",
    "```\n",
    "array(['Telegraph Hill', 'North Beach', 'Financial District', 'Presidio',\n",
    "       'Richmond District', 'Western Addition/NOPA', 'Presidio Heights',\n",
    "       'Pacific Heights', 'Cow Hollow', 'South Beach', 'Marina',\n",
    "       'Outer Sunset', 'Inner Sunset', 'Twin Peaks', 'Cole Valley',\n",
    "       'Haight-Ashbury', 'Mission District', 'SoMa', 'Bayview',\n",
    "       'Potrero Hill', 'Dogpatch', 'Mission Bay', 'Excelsior',\n",
    "       'Mission Terrace', 'Daly City', 'Bernal Heights',\n",
    "       'Visitacion Valley', 'Glen Park', 'Sunnyside', 'Portola',\n",
    "       \"Fisherman's Wharf\", 'Russian Hill', 'The Castro', 'Noe Valley',\n",
    "       'Duboce Triangle', 'Hayes Valley'], dtype=object)\n",
    "```\n",
    "\n"
   ]
  },
  {
   "cell_type": "code",
   "execution_count": 21,
   "metadata": {
    "colab": {
     "autoexec": {
      "startup": false,
      "wait_interval": 0
     }
    },
    "colab_type": "code",
    "collapsed": true,
    "id": "_OgoBq9gaWML"
   },
   "outputs": [],
   "source": [
    "n_rates = dict()\n",
    "# values in tuple (walk_score, transit_score, bike_score, crime_rate)\n",
    "n_rates['Telegraph Hill'] = (99, 96, 61, 108)\n",
    "n_rates['North Beach'] = (99, 96, 71, 109)\n",
    "n_rates['Financial District'] = (95, 100, 84, 142)\n",
    "n_rates['Presidio'] = (90, 76, 77, 1)\n",
    "n_rates['Richmond District'] = (92, 78, 94, 38)\n",
    "n_rates['Western Addition/NOPA'] = (96, 89, 92, 128)\n",
    "n_rates['Presidio Heights'] = (90, 76, 77, 19)\n",
    "n_rates['Pacific Heights'] = (96, 89, 66, 57)\n",
    "n_rates['Cow Hollow'] = (93, 77, 65, 58)\n",
    "n_rates['South Beach'] = (89, 100, 88, 164)\n",
    "n_rates['Marina'] = (92, 76, 81, 48)\n",
    "n_rates['Outer Sunset'] = (78, 62, 76, 10)\n",
    "n_rates['Inner Sunset'] = (94, 72, 83, 27)\n",
    "n_rates['Twin Peaks'] = (33, 71, 47, 22)\n",
    "n_rates['Cole Valley'] = (96, 77, 90, 34)\n",
    "n_rates['Haight-Ashbury'] = (96, 81, 91, 51)\n",
    "n_rates['Mission District'] = (97,89, 98, 173)\n",
    "n_rates['SoMa'] = (95, 100, 97, 237)\n",
    "n_rates['Bayview'] = (82, 68, 62, 34)\n",
    "n_rates['Potrero Hill'] = (87, 74, 76, 55)\n",
    "n_rates['Dogpatch'] = (71, 74, 92, 22)\n",
    "n_rates['Mission Bay'] = (89, 88, 96, 17)\n",
    "n_rates['Excelsior'] = (79, 78, 62, 32)\n",
    "n_rates['Mission Terrace'] = (80, 85, 74, 31)\n",
    "n_rates['Daly City'] = (63, 0, 0, 0)\n",
    "n_rates['Bernal Heights'] = (88, 77, 75, 39)\n",
    "n_rates['Visitacion Valley'] = (68, 67, 50, 22)\n",
    "n_rates['Glen Park'] = (78, 81, 59, 26)\n",
    "n_rates['Sunnyside'] = (78, 80, 59, 10)\n",
    "n_rates['Portola'] = (76, 69, 67, 30)\n",
    "n_rates[\"Fisherman's Wharf\"] = (97, 89, 87, 59)\n",
    "n_rates['Russian Hill'] = (96, 94, 63, 79)\n",
    "n_rates['The Castro'] = (95, 95, 72, 62)\n",
    "n_rates['Noe Valley'] = (91, 74, 78, 78)\n",
    "n_rates['Duboce Triangle'] = (98, 99, 88, 162)\n",
    "n_rates['Hayes Valley'] = (97, 99, 92, 149)"
   ]
  },
  {
   "cell_type": "markdown",
   "metadata": {
    "colab_type": "text",
    "id": "xOh199hFat5r"
   },
   "source": [
    "Then assign these values to dataset."
   ]
  },
  {
   "cell_type": "code",
   "execution_count": 22,
   "metadata": {
    "colab": {
     "autoexec": {
      "startup": false,
      "wait_interval": 0
     }
    },
    "colab_type": "code",
    "collapsed": true,
    "id": "GT0rfqjua4vd"
   },
   "outputs": [],
   "source": [
    "df_clean = df_clean.assign(walk_score = df_clean.neighborhood.apply(lambda x: n_rates[x][0]),\n",
    "               transit_score = df_clean.neighborhood.apply(lambda x: n_rates[x][1]),\n",
    "               bike_score = df_clean.neighborhood.apply(lambda x: n_rates[x][2]),\n",
    "               crime_score = df_clean.neighborhood.apply(lambda x: n_rates[x][3]))\n",
    "df_clean = df_clean.drop(columns=['neighborhood'])"
   ]
  },
  {
   "cell_type": "markdown",
   "metadata": {
    "colab_type": "text",
    "id": "KkPmzmLIeKnv"
   },
   "source": [
    "We also add another feature: the average rating of other listings belonging to the same host, which reflects the reliability of the host."
   ]
  },
  {
   "cell_type": "code",
   "execution_count": 23,
   "metadata": {
    "colab": {
     "autoexec": {
      "startup": false,
      "wait_interval": 0
     }
    },
    "colab_type": "code",
    "collapsed": true,
    "id": "ezhGIK6weJ2t"
   },
   "outputs": [],
   "source": [
    "avg_rating = df.star_rating.mean()\n",
    "df_clean = df_clean.assign(host_other_rating = lambda x: \\\n",
    "                           (df_clean[df_clean.host_id==x.host_id]['star_rating'].sum()-x.star_rating)\\\n",
    "                           /(len(df_clean[df_clean.host_id==x.host_id]['star_rating'])-1)\\\n",
    "                           if len(df_clean[df_clean.host_id==x.host_id]['star_rating']) != 0 else avg_rating*len(df_clean)-x\n",
    "                          )"
   ]
  },
  {
   "cell_type": "markdown",
   "metadata": {
    "colab_type": "text",
    "id": "B0o4GbhpfRjp"
   },
   "source": [
    "Finally we do one-hot encoding for all categorical data and the dataframe we use to train the model is like this:"
   ]
  },
  {
   "cell_type": "code",
   "execution_count": 24,
   "metadata": {
    "colab": {
     "autoexec": {
      "startup": false,
      "wait_interval": 0
     },
     "base_uri": "https://localhost:8080/",
     "height": 239
    },
    "colab_type": "code",
    "executionInfo": {
     "elapsed": 273,
     "status": "ok",
     "timestamp": 1526090098335,
     "user": {
      "displayName": "Wanni Zhang",
      "photoUrl": "//lh6.googleusercontent.com/-fyBiQRwhBvk/AAAAAAAAAAI/AAAAAAAAAGs/5gq2mIyrkro/s50-c-k-no/photo.jpg",
      "userId": "112142218024900944183"
     },
     "user_tz": 240
    },
    "id": "PpvYpxzQvtLc",
    "outputId": "87cce385-6d1f-4c43-a3e2-b6249c50acdf"
   },
   "outputs": [
    {
     "data": {
      "text/html": [
       "<div>\n",
       "<style scoped>\n",
       "    .dataframe tbody tr th:only-of-type {\n",
       "        vertical-align: middle;\n",
       "    }\n",
       "\n",
       "    .dataframe tbody tr th {\n",
       "        vertical-align: top;\n",
       "    }\n",
       "\n",
       "    .dataframe thead th {\n",
       "        text-align: right;\n",
       "    }\n",
       "</style>\n",
       "<table border=\"1\" class=\"dataframe\">\n",
       "  <thead>\n",
       "    <tr style=\"text-align: right;\">\n",
       "      <th></th>\n",
       "      <th>bathrooms</th>\n",
       "      <th>bedrooms</th>\n",
       "      <th>beds</th>\n",
       "      <th>can_instant_book</th>\n",
       "      <th>has_profile_pic</th>\n",
       "      <th>host_id</th>\n",
       "      <th>id</th>\n",
       "      <th>is_host_highly_rated</th>\n",
       "      <th>is_superhost</th>\n",
       "      <th>person_capacity</th>\n",
       "      <th>picture_count</th>\n",
       "      <th>price</th>\n",
       "      <th>star_rating</th>\n",
       "      <th>amenities_num</th>\n",
       "      <th>wifi</th>\n",
       "      <th>free_parking</th>\n",
       "      <th>kitchen</th>\n",
       "      <th>hair_dryer</th>\n",
       "      <th>walk_score</th>\n",
       "      <th>transit_score</th>\n",
       "      <th>bike_score</th>\n",
       "      <th>crime_score</th>\n",
       "      <th>host_other_rating</th>\n",
       "      <th>city_Daly City</th>\n",
       "      <th>city_San Francisco</th>\n",
       "      <th>city_San bruno</th>\n",
       "      <th>entire_home</th>\n",
       "      <th>private_room</th>\n",
       "      <th>shared_room</th>\n",
       "      <th>property_type_basic</th>\n",
       "      <th>property_type_premium</th>\n",
       "      <th>property_type_quality</th>\n",
       "      <th>tier_0</th>\n",
       "      <th>tier_1</th>\n",
       "    </tr>\n",
       "  </thead>\n",
       "  <tbody>\n",
       "    <tr>\n",
       "      <th>0</th>\n",
       "      <td>1.0</td>\n",
       "      <td>1</td>\n",
       "      <td>1.0</td>\n",
       "      <td>True</td>\n",
       "      <td>True</td>\n",
       "      <td>1569866</td>\n",
       "      <td>18656474</td>\n",
       "      <td>True</td>\n",
       "      <td>True</td>\n",
       "      <td>2</td>\n",
       "      <td>6</td>\n",
       "      <td>110</td>\n",
       "      <td>5.0</td>\n",
       "      <td>3</td>\n",
       "      <td>True</td>\n",
       "      <td>False</td>\n",
       "      <td>True</td>\n",
       "      <td>True</td>\n",
       "      <td>99</td>\n",
       "      <td>96</td>\n",
       "      <td>61</td>\n",
       "      <td>108</td>\n",
       "      <td>4.842080</td>\n",
       "      <td>0</td>\n",
       "      <td>1</td>\n",
       "      <td>0</td>\n",
       "      <td>0</td>\n",
       "      <td>1</td>\n",
       "      <td>0</td>\n",
       "      <td>0</td>\n",
       "      <td>0</td>\n",
       "      <td>1</td>\n",
       "      <td>1</td>\n",
       "      <td>0</td>\n",
       "    </tr>\n",
       "    <tr>\n",
       "      <th>1</th>\n",
       "      <td>1.0</td>\n",
       "      <td>1</td>\n",
       "      <td>1.0</td>\n",
       "      <td>False</td>\n",
       "      <td>True</td>\n",
       "      <td>136792470</td>\n",
       "      <td>19591783</td>\n",
       "      <td>True</td>\n",
       "      <td>False</td>\n",
       "      <td>2</td>\n",
       "      <td>6</td>\n",
       "      <td>132</td>\n",
       "      <td>5.0</td>\n",
       "      <td>2</td>\n",
       "      <td>True</td>\n",
       "      <td>False</td>\n",
       "      <td>False</td>\n",
       "      <td>True</td>\n",
       "      <td>99</td>\n",
       "      <td>96</td>\n",
       "      <td>61</td>\n",
       "      <td>108</td>\n",
       "      <td>4.842080</td>\n",
       "      <td>0</td>\n",
       "      <td>1</td>\n",
       "      <td>0</td>\n",
       "      <td>0</td>\n",
       "      <td>1</td>\n",
       "      <td>0</td>\n",
       "      <td>1</td>\n",
       "      <td>0</td>\n",
       "      <td>0</td>\n",
       "      <td>1</td>\n",
       "      <td>0</td>\n",
       "    </tr>\n",
       "    <tr>\n",
       "      <th>2</th>\n",
       "      <td>1.0</td>\n",
       "      <td>1</td>\n",
       "      <td>1.0</td>\n",
       "      <td>False</td>\n",
       "      <td>True</td>\n",
       "      <td>31531759</td>\n",
       "      <td>6074750</td>\n",
       "      <td>False</td>\n",
       "      <td>True</td>\n",
       "      <td>2</td>\n",
       "      <td>10</td>\n",
       "      <td>99</td>\n",
       "      <td>4.5</td>\n",
       "      <td>2</td>\n",
       "      <td>True</td>\n",
       "      <td>False</td>\n",
       "      <td>False</td>\n",
       "      <td>True</td>\n",
       "      <td>99</td>\n",
       "      <td>96</td>\n",
       "      <td>61</td>\n",
       "      <td>108</td>\n",
       "      <td>4.842317</td>\n",
       "      <td>0</td>\n",
       "      <td>1</td>\n",
       "      <td>0</td>\n",
       "      <td>0</td>\n",
       "      <td>1</td>\n",
       "      <td>0</td>\n",
       "      <td>0</td>\n",
       "      <td>0</td>\n",
       "      <td>1</td>\n",
       "      <td>1</td>\n",
       "      <td>0</td>\n",
       "    </tr>\n",
       "    <tr>\n",
       "      <th>3</th>\n",
       "      <td>1.0</td>\n",
       "      <td>1</td>\n",
       "      <td>1.0</td>\n",
       "      <td>True</td>\n",
       "      <td>True</td>\n",
       "      <td>136470616</td>\n",
       "      <td>20936337</td>\n",
       "      <td>True</td>\n",
       "      <td>True</td>\n",
       "      <td>2</td>\n",
       "      <td>8</td>\n",
       "      <td>69</td>\n",
       "      <td>4.5</td>\n",
       "      <td>3</td>\n",
       "      <td>True</td>\n",
       "      <td>False</td>\n",
       "      <td>True</td>\n",
       "      <td>True</td>\n",
       "      <td>99</td>\n",
       "      <td>96</td>\n",
       "      <td>61</td>\n",
       "      <td>108</td>\n",
       "      <td>4.842317</td>\n",
       "      <td>0</td>\n",
       "      <td>1</td>\n",
       "      <td>0</td>\n",
       "      <td>0</td>\n",
       "      <td>1</td>\n",
       "      <td>0</td>\n",
       "      <td>0</td>\n",
       "      <td>0</td>\n",
       "      <td>1</td>\n",
       "      <td>1</td>\n",
       "      <td>0</td>\n",
       "    </tr>\n",
       "    <tr>\n",
       "      <th>4</th>\n",
       "      <td>1.0</td>\n",
       "      <td>1</td>\n",
       "      <td>1.0</td>\n",
       "      <td>True</td>\n",
       "      <td>True</td>\n",
       "      <td>6796236</td>\n",
       "      <td>21459964</td>\n",
       "      <td>True</td>\n",
       "      <td>False</td>\n",
       "      <td>1</td>\n",
       "      <td>9</td>\n",
       "      <td>176</td>\n",
       "      <td>5.0</td>\n",
       "      <td>3</td>\n",
       "      <td>True</td>\n",
       "      <td>False</td>\n",
       "      <td>True</td>\n",
       "      <td>True</td>\n",
       "      <td>99</td>\n",
       "      <td>96</td>\n",
       "      <td>61</td>\n",
       "      <td>108</td>\n",
       "      <td>4.842080</td>\n",
       "      <td>0</td>\n",
       "      <td>1</td>\n",
       "      <td>0</td>\n",
       "      <td>0</td>\n",
       "      <td>1</td>\n",
       "      <td>0</td>\n",
       "      <td>0</td>\n",
       "      <td>0</td>\n",
       "      <td>1</td>\n",
       "      <td>1</td>\n",
       "      <td>0</td>\n",
       "    </tr>\n",
       "  </tbody>\n",
       "</table>\n",
       "</div>"
      ],
      "text/plain": [
       "   bathrooms  bedrooms  beds  can_instant_book  has_profile_pic    host_id  \\\n",
       "0        1.0         1   1.0              True             True    1569866   \n",
       "1        1.0         1   1.0             False             True  136792470   \n",
       "2        1.0         1   1.0             False             True   31531759   \n",
       "3        1.0         1   1.0              True             True  136470616   \n",
       "4        1.0         1   1.0              True             True    6796236   \n",
       "\n",
       "         id  is_host_highly_rated  is_superhost  person_capacity  \\\n",
       "0  18656474                  True          True                2   \n",
       "1  19591783                  True         False                2   \n",
       "2   6074750                 False          True                2   \n",
       "3  20936337                  True          True                2   \n",
       "4  21459964                  True         False                1   \n",
       "\n",
       "   picture_count  price  star_rating  amenities_num  wifi  free_parking  \\\n",
       "0              6    110          5.0              3  True         False   \n",
       "1              6    132          5.0              2  True         False   \n",
       "2             10     99          4.5              2  True         False   \n",
       "3              8     69          4.5              3  True         False   \n",
       "4              9    176          5.0              3  True         False   \n",
       "\n",
       "   kitchen  hair_dryer  walk_score  transit_score  bike_score  crime_score  \\\n",
       "0     True        True          99             96          61          108   \n",
       "1    False        True          99             96          61          108   \n",
       "2    False        True          99             96          61          108   \n",
       "3     True        True          99             96          61          108   \n",
       "4     True        True          99             96          61          108   \n",
       "\n",
       "   host_other_rating  city_Daly City  city_San Francisco  city_San bruno  \\\n",
       "0           4.842080               0                   1               0   \n",
       "1           4.842080               0                   1               0   \n",
       "2           4.842317               0                   1               0   \n",
       "3           4.842317               0                   1               0   \n",
       "4           4.842080               0                   1               0   \n",
       "\n",
       "   entire_home  private_room  shared_room  property_type_basic  \\\n",
       "0            0             1            0                    0   \n",
       "1            0             1            0                    1   \n",
       "2            0             1            0                    0   \n",
       "3            0             1            0                    0   \n",
       "4            0             1            0                    0   \n",
       "\n",
       "   property_type_premium  property_type_quality  tier_0  tier_1  \n",
       "0                      0                      1       1       0  \n",
       "1                      0                      0       1       0  \n",
       "2                      0                      1       1       0  \n",
       "3                      0                      1       1       0  \n",
       "4                      0                      1       1       0  "
      ]
     },
     "execution_count": 24,
     "metadata": {},
     "output_type": "execute_result"
    }
   ],
   "source": [
    "df_final = pd.get_dummies(df_clean, columns = ['city', 'room_type_category','property_type','tier_id'], \n",
    "               prefix=['city','','property_type', 'tier'], prefix_sep=['_','','_', '_'])\n",
    "df_final.head()"
   ]
  },
  {
   "cell_type": "markdown",
   "metadata": {
    "colab_type": "text",
    "id": "DusptQqZdeQc"
   },
   "source": [
    "## Data Mining and Problems\n",
    "\n",
    "**Convert to Binary**<br>\n",
    "By inspecting our label `star_rating`, we found that the precision of the rating is only 0.5 (half-star), and most of the listings have a rating of 5-star. The number of instancs in most groups is less than 10."
   ]
  },
  {
   "cell_type": "code",
   "execution_count": 25,
   "metadata": {
    "colab": {
     "autoexec": {
      "startup": false,
      "wait_interval": 0
     },
     "base_uri": "https://localhost:8080/",
     "height": 35
    },
    "colab_type": "code",
    "executionInfo": {
     "elapsed": 449,
     "status": "ok",
     "timestamp": 1526090102371,
     "user": {
      "displayName": "Wanni Zhang",
      "photoUrl": "//lh6.googleusercontent.com/-fyBiQRwhBvk/AAAAAAAAAAI/AAAAAAAAAGs/5gq2mIyrkro/s50-c-k-no/photo.jpg",
      "userId": "112142218024900944183"
     },
     "user_tz": 240
    },
    "id": "CVZSVd6jgFpc",
    "outputId": "d1237db1-2fed-4535-8f58-bd2c4ba63c3b"
   },
   "outputs": [
    {
     "data": {
      "text/plain": [
       "array([5. , 4.5, 4. , 3.5, 3. , 2. ])"
      ]
     },
     "execution_count": 25,
     "metadata": {},
     "output_type": "execute_result"
    }
   ],
   "source": [
    "df_final['star_rating'].unique()"
   ]
  },
  {
   "cell_type": "code",
   "execution_count": 26,
   "metadata": {
    "colab": {
     "autoexec": {
      "startup": false,
      "wait_interval": 0
     },
     "base_uri": "https://localhost:8080/",
     "height": 423
    },
    "colab_type": "code",
    "executionInfo": {
     "elapsed": 388,
     "status": "ok",
     "timestamp": 1526090103332,
     "user": {
      "displayName": "Wanni Zhang",
      "photoUrl": "//lh6.googleusercontent.com/-fyBiQRwhBvk/AAAAAAAAAAI/AAAAAAAAAGs/5gq2mIyrkro/s50-c-k-no/photo.jpg",
      "userId": "112142218024900944183"
     },
     "user_tz": 240
    },
    "id": "Gt2AhyIZfior",
    "outputId": "63babe0f-eb63-4dd9-9b7b-02677bfa0740"
   },
   "outputs": [
    {
     "data": {
      "text/plain": [
       "(array([0.000e+00, 0.000e+00, 0.000e+00, 0.000e+00, 1.000e+00, 0.000e+00,\n",
       "        3.000e+00, 8.000e+00, 4.000e+01, 5.460e+02, 1.518e+03]),\n",
       " array([0. , 0.5, 1. , 1.5, 2. , 2.5, 3. , 3.5, 4. , 4.5, 5. , 5.5]),\n",
       " <a list of 11 Patch objects>)"
      ]
     },
     "execution_count": 26,
     "metadata": {},
     "output_type": "execute_result"
    },
    {
     "data": {
      "image/png": "[encoded data removed]",
      "text/plain": [
       "<matplotlib.figure.Figure at 0x5d7d05fd0>"
      ]
     },
     "metadata": {},
     "output_type": "display_data"
    }
   ],
   "source": [
    "plt.figure(figsize=(8,5))\n",
    "plt.xlabel('rating category')\n",
    "plt.title('Histogram of the star-rating')\n",
    "plt.hist(df_final['star_rating'], bins=11, range=(0,5.5), align='left')"
   ]
  },
  {
   "cell_type": "markdown",
   "metadata": {
    "colab_type": "text",
    "id": "fcfUQSHwj7aX"
   },
   "source": [
    "Also, the average rating of listings in San Francisco is 4.7 (information from file `home_data`), so we decide to change the problem to a binary classification. Only the listings with 5-star rating are considered 'good listings', and others are all 'bad listings'. Since the main purpose of the prediction is to help guests avoid bad listings, we label bad listings as True.  \n",
    "\n",
    "After binarized, it's still a very biased dataset, so we use the SMOTE (Synthetic Minority Oversampling Technique) algorithm to oversampling the class of bad_listings."
   ]
  },
  {
   "cell_type": "code",
   "execution_count": 27,
   "metadata": {
    "colab": {
     "autoexec": {
      "startup": false,
      "wait_interval": 0
     }
    },
    "colab_type": "code",
    "collapsed": true,
    "id": "yP1sP-ypuPSj"
   },
   "outputs": [],
   "source": [
    "y = df_final['star_rating']<5\n",
    "X = df_final.drop(columns=['star_rating', 'host_id', 'id'])"
   ]
  },
  {
   "cell_type": "code",
   "execution_count": 29,
   "metadata": {
    "colab": {
     "autoexec": {
      "startup": false,
      "wait_interval": 0
     },
     "base_uri": "https://localhost:8080/",
     "height": 228
    },
    "colab_type": "code",
    "collapsed": true,
    "executionInfo": {
     "elapsed": 4935,
     "status": "ok",
     "timestamp": 1526083534795,
     "user": {
      "displayName": "Wanni Zhang",
      "photoUrl": "//lh6.googleusercontent.com/-fyBiQRwhBvk/AAAAAAAAAAI/AAAAAAAAAGs/5gq2mIyrkro/s50-c-k-no/photo.jpg",
      "userId": "112142218024900944183"
     },
     "user_tz": 240
    },
    "id": "1n-0IBVRpy8O",
    "outputId": "10ff45b8-8d43-478a-e210-f3940fa889cd"
   },
   "outputs": [],
   "source": [
    "from sklearn.ensemble import RandomForestClassifier, GradientBoostingClassifier\n",
    "from sklearn.svm import SVC\n",
    "from sklearn.neighbors import KNeighborsClassifier\n",
    "from sklearn.linear_model import LogisticRegression\n",
    "from sklearn.preprocessing import StandardScaler\n",
    "from sklearn.model_selection import train_test_split\n",
    "\n",
    "from sklearn.model_selection import cross_val_predict\n",
    "from sklearn.model_selection import cross_val_score\n",
    "from sklearn.base import clone\n",
    "from sklearn import metrics\n",
    "# !pip install imblearn\n",
    "from imblearn.over_sampling import SMOTE\n",
    "from numpy.random import permutation\n",
    "\n",
    "from keras.models import Sequential\n",
    "from keras.layers import Dense,Dropout\n",
    "from keras import utils\n",
    "from keras.wrappers.scikit_learn import KerasClassifier"
   ]
  },
  {
   "cell_type": "markdown",
   "metadata": {
    "colab_type": "text",
    "id": "Qr-8fG1FqA9S"
   },
   "source": [
    "For SMOTE algorithm, we use the package `imblearn`. Since we want to implement SMOTE, we wirte our own cross validation function here."
   ]
  },
  {
   "cell_type": "code",
   "execution_count": 98,
   "metadata": {
    "colab": {
     "autoexec": {
      "startup": false,
      "wait_interval": 0
     }
    },
    "colab_type": "code",
    "collapsed": true,
    "id": "VhG3_dOooj7r"
   },
   "outputs": [],
   "source": [
    "def cv(X,y,clfs,k=5,smote=True):\n",
    "    n = len(y)\n",
    "    idx_shuffle = permutation(n)\n",
    "    # self-implemented 5 folder cv\n",
    "    idx_all = set(idx_shuffle)\n",
    "    acc = np.zeros((k,len(clfs)))\n",
    "    precisions = np.zeros((k,len(clfs)))\n",
    "    recalls = np.zeros((k,len(clfs)))\n",
    "    for i in range(k):\n",
    "        # select continuous features to do normalization\n",
    "        con_features = X[['bathrooms','bedrooms','beds','person_capacity', 'price', 'amenities_num',\n",
    "                                'host_other_rating','crime_score','transit_score','walk_score']]\n",
    "        disc_features = X.drop(columns=['bathrooms','bedrooms','beds','person_capacity', 'price', 'amenities_num',\n",
    "                                              'host_other_rating','crime_score','transit_score','walk_score'])\n",
    "        # train_validation split\n",
    "        idx_v = idx_shuffle[n//k*i:n//k*(i+1)]\n",
    "        idx_train = list(idx_all-set(idx_v))\n",
    "        scaler = StandardScaler()\n",
    "        scaler.fit(con_features.iloc[idx_train])\n",
    "        # normalize data\n",
    "        features_std_tr = scaler.transform(con_features.iloc[idx_train])\n",
    "        X_train = np.hstack((features_std_tr, disc_features.iloc[idx_train]))\n",
    "        y_train = y.iloc[idx_train]\n",
    "        features_std_v = scaler.transform(con_features.iloc[idx_v])\n",
    "        X_v = np.hstack((features_std_v, disc_features.iloc[idx_v]))\n",
    "        y_v = y.iloc[idx_v]\n",
    "        # do SMOTE for imbalanced data\n",
    "        if smote:\n",
    "            sm = SMOTE(ratio='minority', random_state=42)\n",
    "            X_train, y_train = sm.fit_sample(X_train, y_train)\n",
    "        # train each classifier\n",
    "        accuracy = np.zeros(len(clfs))\n",
    "        precision = np.zeros(len(clfs))\n",
    "        recall = np.zeros(len(clfs))\n",
    "        for j, clf in enumerate(clfs):\n",
    "            clf.fit(X_train, y_train)\n",
    "            prediction = clf.predict(X_v)\n",
    "            if isinstance(clf, KerasClassifier):\n",
    "                prediction = prediction.flatten()\n",
    "            accuracy[j] += sum(prediction==y_v)/len(y_v)\n",
    "            precision[j] = np.logical_and(prediction, y_v).sum()/(prediction==True).sum()\n",
    "            recall[j] = np.logical_and(prediction, y_v).sum()/(y_v==True).sum()\n",
    "        acc[i] = accuracy\n",
    "        precisions[i] = precision\n",
    "        recalls[i] = recall\n",
    "    return acc, precisions, recalls"
   ]
  },
  {
   "cell_type": "markdown",
   "metadata": {
    "colab_type": "text",
    "id": "j7XYE593oVGX"
   },
   "source": [
    "We test six classifiers: random forest, KNN, logistic regression, gradient boosting, SVM and artificial neural network (from Keras)"
   ]
  },
  {
   "cell_type": "code",
   "execution_count": 31,
   "metadata": {
    "colab": {
     "autoexec": {
      "startup": false,
      "wait_interval": 0
     },
     "base_uri": "https://localhost:8080/",
     "height": 35
    },
    "colab_type": "code",
    "executionInfo": {
     "elapsed": 261,
     "status": "ok",
     "timestamp": 1526090116434,
     "user": {
      "displayName": "Wanni Zhang",
      "photoUrl": "//lh6.googleusercontent.com/-fyBiQRwhBvk/AAAAAAAAAAI/AAAAAAAAAGs/5gq2mIyrkro/s50-c-k-no/photo.jpg",
      "userId": "112142218024900944183"
     },
     "user_tz": 240
    },
    "id": "lbGDl3g0xGH2",
    "outputId": "3a15d8dc-0508-4384-b804-786acdcec556"
   },
   "outputs": [
    {
     "data": {
      "text/plain": [
       "(2116, 31)"
      ]
     },
     "execution_count": 31,
     "metadata": {},
     "output_type": "execute_result"
    }
   ],
   "source": [
    "X.shape"
   ]
  },
  {
   "cell_type": "code",
   "execution_count": 116,
   "metadata": {
    "colab": {
     "autoexec": {
      "startup": false,
      "wait_interval": 0
     }
    },
    "colab_type": "code",
    "collapsed": true,
    "id": "1bfVZQYRs9_g"
   },
   "outputs": [],
   "source": [
    "def ANN_model():\n",
    "    model = Sequential()\n",
    "    model.add(Dense(50, input_dim=31, activation='relu'))\n",
    "    model.add(Dense(1, activation='sigmoid'))\n",
    "    # Compile model\n",
    "    model.compile(loss='binary_crossentropy', optimizer='adam', metrics=['accuracy'])\n",
    "    return model"
   ]
  },
  {
   "cell_type": "markdown",
   "metadata": {
    "colab_type": "text",
    "id": "YoCs46fautlY"
   },
   "source": [
    "We first divide the whole dataset into training set (80%) and testing set(20%), then we do 5-folder classification on the training set."
   ]
  },
  {
   "cell_type": "markdown",
   "metadata": {
    "colab_type": "text",
    "id": "Jmbjdv-bwbZF"
   },
   "source": []
  },
  {
   "cell_type": "code",
   "execution_count": 33,
   "metadata": {
    "colab": {
     "autoexec": {
      "startup": false,
      "wait_interval": 0
     }
    },
    "colab_type": "code",
    "collapsed": true,
    "id": "lBEl6W7qudri"
   },
   "outputs": [],
   "source": [
    "N = len(X)\n",
    "idx_shuffle = permutation(N)\n",
    "X_test = X.iloc[idx_shuffle[:N//5]]\n",
    "y_test = y.iloc[idx_shuffle[:N//5]]\n",
    "X_train = X.iloc[idx_shuffle[N//5:]]\n",
    "y_train = y.iloc[idx_shuffle[N//5:]]"
   ]
  },
  {
   "cell_type": "code",
   "execution_count": 117,
   "metadata": {
    "colab": {
     "autoexec": {
      "startup": false,
      "wait_interval": 0
     }
    },
    "colab_type": "code",
    "collapsed": true,
    "id": "GZihK72zoUfl"
   },
   "outputs": [],
   "source": [
    "forest = RandomForestClassifier(n_estimators = 50, max_depth=4, class_weight=None)\n",
    "knn = KNeighborsClassifier(n_neighbors=3)\n",
    "logreg = LogisticRegression(C=1e5, penalty='l2')\n",
    "grb = GradientBoostingClassifier(n_estimators = 50,learning_rate=0.1, max_depth=4)\n",
    "svm = SVC(kernel='linear', C=1)\n",
    "ann = KerasClassifier(build_fn=ANN_model, epochs=80, batch_size=32, verbose=0)\n",
    "clf_dict = {'random forest': forest, 'KNN': knn, 'logistic regression': logreg, 'gradient boosting': grb, 'SVM': svm, 'ann':ann}"
   ]
  },
  {
   "cell_type": "code",
   "execution_count": 0,
   "metadata": {
    "colab": {
     "autoexec": {
      "startup": false,
      "wait_interval": 0
     }
    },
    "colab_type": "code",
    "collapsed": true,
    "id": "zkKnx9925-tT"
   },
   "outputs": [],
   "source": [
    "clf_names = ['random forest', 'KNN', 'logistic regression', 'gradient boosting', 'SVM', 'ann']\n",
    "clfs = [clf_dict[name] for name in clf_names]\n",
    "accuracy, precisions, recalls = cv(X_train, y_train, clfs, k=5, smote=False)\n",
    "accuracy_r, precisions_r, recalls_r = cv(X_train, y_train, clfs,k=5, smote=True)"
   ]
  },
  {
   "cell_type": "markdown",
   "metadata": {
    "colab_type": "text",
    "id": "wRdapRGk4AOI"
   },
   "source": [
    "Plot the average accuracy and average recall of cross validation"
   ]
  },
  {
   "cell_type": "code",
   "execution_count": 289,
   "metadata": {
    "colab": {
     "autoexec": {
      "startup": false,
      "wait_interval": 0
     },
     "base_uri": "https://localhost:8080/",
     "height": 283
    },
    "colab_type": "code",
    "executionInfo": {
     "elapsed": 563,
     "status": "ok",
     "timestamp": 1526090236585,
     "user": {
      "displayName": "Wanni Zhang",
      "photoUrl": "//lh6.googleusercontent.com/-fyBiQRwhBvk/AAAAAAAAAAI/AAAAAAAAAGs/5gq2mIyrkro/s50-c-k-no/photo.jpg",
      "userId": "112142218024900944183"
     },
     "user_tz": 240
    },
    "id": "NqkIMT6Xx5Ns",
    "outputId": "a865d849-9953-4551-e430-8003acf81b07"
   },
   "outputs": [
    {
     "data": {
      "image/png": "[encoded data removed]",
      "text/plain": [
       "<matplotlib.figure.Figure at 0x7f4691f1ee80>"
      ]
     },
     "metadata": {
      "tags": []
     },
     "output_type": "display_data"
    }
   ],
   "source": [
    "plt.figure(figsize=(10,4))\n",
    "index = np.arange(len(clf_names))\n",
    "bar_width = 0.2\n",
    "rects = plt.bar(index, accuracy.mean(axis=0), bar_width,color='cornflowerblue',alpha=0.7,label='Accuracy')\n",
    "rects_res = plt.bar(index+bar_width, accuracy_r.mean(axis=0), bar_width,color='salmon',alpha=0.7,label='Accuracy with SMOTE')\n",
    "plt.xticks(index+bar_width, clf_names)\n",
    "plt.ylim(0,1.05)\n",
    "# plt.grid('off')\n",
    "plt.title('Average accuracy and recall of cv')\n",
    "plt.legend(bbox_to_anchor=(1.05, 1))\n",
    "for i in range(len(rects)):\n",
    "    rect = rects[i]\n",
    "    height = rect.get_height()\n",
    "    label = round(accuracy.mean(axis=0)[i],2)\n",
    "    plt.text(rect.get_x() + rect.get_width() / 2, height, label, ha='center', va='bottom')\n",
    "    rect = rects_res[i]\n",
    "    height = rect.get_height()\n",
    "    label = round(accuracy_r.mean(axis=0)[i],2)\n",
    "    plt.text(rect.get_x() + rect.get_width() / 2, height, label, ha='center', va='bottom')"
   ]
  },
  {
   "cell_type": "code",
   "execution_count": 290,
   "metadata": {
    "colab": {
     "autoexec": {
      "startup": false,
      "wait_interval": 0
     },
     "base_uri": "https://localhost:8080/",
     "height": 283
    },
    "colab_type": "code",
    "executionInfo": {
     "elapsed": 583,
     "status": "ok",
     "timestamp": 1526090242288,
     "user": {
      "displayName": "Wanni Zhang",
      "photoUrl": "//lh6.googleusercontent.com/-fyBiQRwhBvk/AAAAAAAAAAI/AAAAAAAAAGs/5gq2mIyrkro/s50-c-k-no/photo.jpg",
      "userId": "112142218024900944183"
     },
     "user_tz": 240
    },
    "id": "y0E_dfej3dmL",
    "outputId": "bac3ccc0-dbcf-4d76-c494-c94fc7c5aa18"
   },
   "outputs": [
    {
     "data": {
      "image/png": "[encoded data removed]",
      "text/plain": [
       "<matplotlib.figure.Figure at 0x7f4690ddf2e8>"
      ]
     },
     "metadata": {
      "tags": []
     },
     "output_type": "display_data"
    }
   ],
   "source": [
    "plt.figure(figsize=(10,4))\n",
    "index = np.arange(len(clf_names))\n",
    "bar_width = 0.2\n",
    "rects = plt.bar(index, recalls.mean(axis=0), bar_width,color='cornflowerblue',alpha=0.7,label='recall')\n",
    "rects_res = plt.bar(index+bar_width, recalls_r.mean(axis=0), bar_width,color='salmon',alpha=0.7,label='recall with SMOTE')\n",
    "plt.xticks(index+bar_width, clf_names)\n",
    "plt.ylim(0,1.05)\n",
    "# plt.grid('off')\n",
    "plt.title('Average accuracy and recall of cv')\n",
    "plt.legend(bbox_to_anchor=(1.05, 1))\n",
    "for i in range(len(rects)):\n",
    "    rect = rects[i]\n",
    "    height = rect.get_height()\n",
    "    label = round(recalls.mean(axis=0)[i],2)\n",
    "    plt.text(rect.get_x() + rect.get_width() / 2, height, label, ha='center', va='bottom')\n",
    "    rect = rects_res[i]\n",
    "    height = rect.get_height()\n",
    "    label = round(recalls_r.mean(axis=0)[i],2)\n",
    "    plt.text(rect.get_x() + rect.get_width() / 2, height, label, ha='center', va='bottom')"
   ]
  },
  {
   "cell_type": "markdown",
   "metadata": {
    "colab_type": "text",
    "id": "hgpNCUb14Owi"
   },
   "source": [
    "The accuracy and recall are 1 for most of the classifers, which means we can perfectly distinguish the good listings and bad listings. Test the performance of classifiers (except KNN) on the test set."
   ]
  },
  {
   "cell_type": "code",
   "execution_count": 324,
   "metadata": {
    "colab": {
     "autoexec": {
      "startup": false,
      "wait_interval": 0
     },
     "base_uri": "https://localhost:8080/",
     "height": 156
    },
    "colab_type": "code",
    "executionInfo": {
     "elapsed": 389,
     "status": "ok",
     "timestamp": 1526091124761,
     "user": {
      "displayName": "Wanni Zhang",
      "photoUrl": "//lh6.googleusercontent.com/-fyBiQRwhBvk/AAAAAAAAAAI/AAAAAAAAAGs/5gq2mIyrkro/s50-c-k-no/photo.jpg",
      "userId": "112142218024900944183"
     },
     "user_tz": 240
    },
    "id": "LRnFpMkm4zB-",
    "outputId": "5432ef83-e2dd-4491-da54-e13cfdba13ce"
   },
   "outputs": [
    {
     "name": "stdout",
     "output_type": "stream",
     "text": [
      "accuracy: random forest 1.0\n",
      "recall: random forest 1.0\n",
      "accuracy: logistic regression 1.0\n",
      "recall: logistic regression 1.0\n",
      "accuracy: gradient boosting 1.0\n",
      "recall: gradient boosting 1.0\n",
      "accuracy: SVM 1.0\n",
      "recall: SVM 1.0\n"
     ]
    }
   ],
   "source": [
    "clf_names = ['random forest', 'logistic regression', 'gradient boosting', 'SVM']\n",
    "clfs = [clf_dict[name] for name in clf_names]\n",
    "col_names = ['bathrooms','bedrooms','beds','person_capacity', 'price', 'amenities_num',\n",
    "              'host_other_rating','crime_score','transit_score','walk_score', 'bike_score']\n",
    "con_features = X_train[col_names]\n",
    "disc_features = X_train.drop(columns=col_names)\n",
    "scaler = StandardScaler()\n",
    "scaler.fit(con_features)\n",
    "features_std_tr = scaler.transform(con_features)\n",
    "X_train = np.hstack((features_std_tr, disc_features))\n",
    "\n",
    "con_features = X_test[col_names]\n",
    "disc_features = X_test.drop(columns=col_names)\n",
    "features_std_tr = scaler.transform(con_features)\n",
    "X_test = np.hstack((features_std_tr, disc_features))\n",
    "for i, clf in enumerate(clfs):\n",
    "    clf.fit(X_train, y_train)\n",
    "    pred = clf.predict(X_test)\n",
    "    print('accuracy: %s'%clf_names[i], (pred==y_test).mean())\n",
    "    print('recall: %s'%clf_names[i], np.logical_and(pred, y_test).sum()/(y_test==True).sum())"
   ]
  },
  {
   "cell_type": "markdown",
   "metadata": {
    "colab_type": "text",
    "id": "U52rw6YUHumM"
   },
   "source": [
    "We can inspect feature importance from random forest classifier to see which features contribute most."
   ]
  },
  {
   "cell_type": "code",
   "execution_count": 325,
   "metadata": {
    "colab": {
     "autoexec": {
      "startup": false,
      "wait_interval": 0
     },
     "base_uri": "https://localhost:8080/",
     "height": 485
    },
    "colab_type": "code",
    "executionInfo": {
     "elapsed": 926,
     "status": "ok",
     "timestamp": 1526091130364,
     "user": {
      "displayName": "Wanni Zhang",
      "photoUrl": "//lh6.googleusercontent.com/-fyBiQRwhBvk/AAAAAAAAAAI/AAAAAAAAAGs/5gq2mIyrkro/s50-c-k-no/photo.jpg",
      "userId": "112142218024900944183"
     },
     "user_tz": 240
    },
    "id": "eBF95-x242m8",
    "outputId": "ad2ef7e4-1477-4506-8f1f-00e4ddcc2658"
   },
   "outputs": [
    {
     "data": {
      "image/png": "[encoded data removed]",
      "text/plain": [
       "<matplotlib.figure.Figure at 0x7f4693838940>"
      ]
     },
     "metadata": {
      "tags": []
     },
     "output_type": "display_data"
    }
   ],
   "source": [
    "importances = forest.feature_importances_\n",
    "plt.figure(figsize=(15,6))\n",
    "index = np.arange(len(importances))\n",
    "bar_width = 0.5\n",
    "rects = plt.bar(index, importances,bar_width,color='cornflowerblue',alpha=0.7)\n",
    "names = list(X.drop(columns=col_names).columns)\n",
    "plt.xticks(index-bar_width/2, col_names+names, rotation=70)\n",
    "plt.title('Feature importance')\n",
    "# plt.grid('off')\n",
    "for i in range(len(rects)):\n",
    "    rect_rf = rects[i]\n",
    "    height_rf = rect_rf.get_height()\n",
    "    label_rf = round(importances[i],2)\n",
    "    plt.text(rect_rf.get_x() + rect_rf.get_width() / 2, height_rf, label_rf, ha='center', va='bottom')"
   ]
  },
  {
   "cell_type": "markdown",
   "metadata": {
    "colab_type": "text",
    "id": "osv0xaI2H4HY"
   },
   "source": [
    "It seems that the feature `host_other_rating` engineered by us has a very strong correlation with the rating of the listing. And the second and third most important features are all about the host, which means the ratings for hosts can generally reflect the quality of their homes."
   ]
  },
  {
   "cell_type": "markdown",
   "metadata": {
    "colab_type": "text",
    "id": "AjJDUKqJeTsA"
   },
   "source": [
    "### Reconsider GOOD QUALITY Problem\n",
    "According to the results above, around 75% of the listings are of five-star rating, which cannot really differenciate the quality of listings. This lead us to rethink the metrics for good listings. We think rating alone cannot reflect the quality of listings because for some listings, if they have few reviews they are more likely to get an overall 5 rating. Thus, the number of reviews also matters in our case. It shows the popularity of the listing. However, this is not fair for relatively new listings in our data. Thus, we decied to move on with `number_of_reviews` in last year as the reference of popularity. <br>\n",
    "To do this, we first scraped `reviews` data of each listings in our dataset. "
   ]
  },
  {
   "cell_type": "code",
   "execution_count": null,
   "metadata": {
    "colab": {
     "autoexec": {
      "startup": false,
      "wait_interval": 0
     }
    },
    "colab_type": "code",
    "collapsed": true,
    "id": "PkFIfmBlg6wi"
   },
   "outputs": [],
   "source": [
    "# code for scraping reviews \n",
    "ids = df_clean.id\n",
    "reviews = []\n",
    "for i, list_id in enumerate(ids):\n",
    "    url = 'https://api.airbnb.com/v2/reviews?_format=for_mobile_client&_limit=20&_offset=0&listing_id={}&role=all'.format(list_id)\n",
    "    headers = {'Accept':'application/json', 'Accept-Encoding':'gzip, deflate',\n",
    "       \t'User-Agent':'Airbnb/16.41 iPhone/10.0.3 Type/Phone', 'X-Airbnb-API-Key':'d306zoyjsyarp7ifhu67rjxn52tv0t20',\n",
    "       \t'X-Airbnb-Currency':'USD', 'X-Airbnb-Locale':'en', 'X-Airbnb-Network-Type':'wifi'}\n",
    "    time.sleep(0.1)\n",
    "    if i % 100 == 0:\n",
    "        print('now scraping %d th: %d'% (i, list_id))\n",
    "    re = requests.get(url, headers=headers)\n",
    "    review = re.json()\n",
    "    reviews.append(review)"
   ]
  },
  {
   "cell_type": "markdown",
   "metadata": {
    "colab_type": "text",
    "id": "7S3u8jNAhMwr"
   },
   "source": [
    "Feel free to fun above code but we will not run it here. We have scrape it and store them in a `json` file."
   ]
  },
  {
   "cell_type": "markdown",
   "metadata": {
    "colab_type": "text",
    "id": "ZKhhBgS6iiBT"
   },
   "source": [
    "In the `reviews` list, each element is a dictionary with all the review data of a listing. The data has a relatively complex structure and codes below shows how to access the first `review` of first listing in the listings. We will use `'created at'` here to get the counts in last year.\n"
   ]
  },
  {
   "cell_type": "code",
   "execution_count": 51,
   "metadata": {
    "collapsed": true
   },
   "outputs": [],
   "source": [
    "with open('reviews.json', 'r') as f:\n",
    "    reviews = json.load(f)"
   ]
  },
  {
   "cell_type": "code",
   "execution_count": 52,
   "metadata": {
    "colab": {
     "autoexec": {
      "startup": false,
      "wait_interval": 0
     },
     "base_uri": "https://localhost:8080/",
     "height": 512
    },
    "colab_type": "code",
    "executionInfo": {
     "elapsed": 343,
     "status": "ok",
     "timestamp": 1526082113915,
     "user": {
      "displayName": "Xianla Li",
      "photoUrl": "https://lh3.googleusercontent.com/a/default-user=s128",
      "userId": "111273054959580992110"
     },
     "user_tz": 240
    },
    "id": "sGmFNwkAlLtb",
    "outputId": "3e2a0ebb-02f7-42d1-8a18-ba09acd39373",
    "scrolled": true
   },
   "outputs": [
    {
     "data": {
      "text/plain": [
       "{'author': {'first_name': 'Christine',\n",
       "  'has_profile_pic': True,\n",
       "  'id': 40593859,\n",
       "  'picture_url': 'https://a0.muscache.com/im/users/40593859/profile_pic/1438786176/original.jpg?aki_policy=profile_x_medium',\n",
       "  'smart_name': 'Christine',\n",
       "  'thumbnail_url': 'https://a0.muscache.com/im/users/40593859/profile_pic/1438786176/original.jpg?aki_policy=profile_small'},\n",
       " 'author_id': 40593859,\n",
       " 'can_be_edited': False,\n",
       " 'collection_tag': None,\n",
       " 'comments': \"Tian is the absolutely nicest host you will have. He dropped everything to accommodate me, making sure I can check in anytime I needed, and delivering keys by hand! He also mailed back my iPhone charger as soon as I made the request!! He is also very helpful with great recommendations. \\n\\nThe apartment has much of what you will need. It's smack between Chinatown and Little Italy, so those will be your main walkable food options. It's full of cafes, restaurants, bars and laundromats. A beautiful park is also a few minutes walk away. Great for longer term stays!!!\\n\\nThe apartment itself is pre-pre-pre war and if you're coming to see SF, beats a hotel any day. It has a ton of charm, and is furnished well, with a great collection of design/tech books. The room has its own sink, and the toilet and bath are in separate rooms which is great!!! That means sharing spaces is so much easier as you can wash up in your private ensuite, and others can use the toilet and bath separately. The room and kitchen both get amazing sun and the roommates are BARELY noticeable. We felt we were the only ones there. They are extremely quiet. \\n\\nOverall, so pleased with this place, and hope many people come to enjoy it as much as we did :) THANK YOU TIAN FOR THE BEST SF STAY!!!!!\",\n",
       " 'created_at': '2018-05-07T22:25:15Z',\n",
       " 'id': 262109151,\n",
       " 'language': 'en',\n",
       " 'listing': {'id': 18656474,\n",
       "  'name': 'Spacious, sunny bedroom for exploring SF'},\n",
       " 'listing_id': 18656474,\n",
       " 'rating': 4,\n",
       " 'recipient': {'first_name': 'Tian',\n",
       "  'has_profile_pic': True,\n",
       "  'id': 1569866,\n",
       "  'picture_url': 'https://a0.muscache.com/im/pictures/8c1b25b4-c803-42fc-adaa-70669d43da9d.jpg?aki_policy=profile_x_medium',\n",
       "  'smart_name': 'Tian',\n",
       "  'thumbnail_url': 'https://a0.muscache.com/im/pictures/8c1b25b4-c803-42fc-adaa-70669d43da9d.jpg?aki_policy=profile_small'},\n",
       " 'recipient_id': 1569866,\n",
       " 'response': '',\n",
       " 'role': 'guest',\n",
       " 'user_flag': None}"
      ]
     },
     "execution_count": 52,
     "metadata": {},
     "output_type": "execute_result"
    }
   ],
   "source": [
    "review = reviews[0]['reviews'][0]\n",
    "review"
   ]
  },
  {
   "cell_type": "code",
   "execution_count": 108,
   "metadata": {
    "colab": {
     "autoexec": {
      "startup": false,
      "wait_interval": 0
     }
    },
    "colab_type": "code",
    "collapsed": true,
    "id": "hcF0SmCEkGU9"
   },
   "outputs": [],
   "source": [
    "def get_recent_counts(reviews):\n",
    "    \"\"\" Get the counts of reviews for the listings.\n",
    "    Inputs:\n",
    "        reviews - a list of dicts with each contains review info for a listing\n",
    "    Outputs:\n",
    "        ans - a list of counts for listings(the same length as listings)\n",
    "    \"\"\"\n",
    "    n = 0\n",
    "    ans = []\n",
    "    t_min = date(2017, 5, 9)\n",
    "    for review in reviews:\n",
    "        min_t = datetime.now().date()\n",
    "        count = 0\n",
    "        for r in review['reviews']:\n",
    "            t = datetime.strptime(r['created_at'][0:10], '%Y-%m-%d').date()\n",
    "            if t > t_min:\n",
    "                count += 1\n",
    "        ans.append(count)\n",
    "    return ans\n",
    "\n",
    "recent_counts = get_recent_counts(reviews)"
   ]
  },
  {
   "cell_type": "markdown",
   "metadata": {
    "colab_type": "text",
    "id": "oEDK_oRcmlMX"
   },
   "source": [
    "Then we append the list to the dataset."
   ]
  },
  {
   "cell_type": "code",
   "execution_count": 109,
   "metadata": {
    "colab": {
     "autoexec": {
      "startup": false,
      "wait_interval": 0
     },
     "base_uri": "https://localhost:8080/",
     "height": 167
    },
    "colab_type": "code",
    "collapsed": true,
    "executionInfo": {
     "elapsed": 237,
     "status": "error",
     "timestamp": 1526082722080,
     "user": {
      "displayName": "Xianla Li",
      "photoUrl": "https://lh3.googleusercontent.com/a/default-user=s128",
      "userId": "111273054959580992110"
     },
     "user_tz": 240
    },
    "id": "S3gQrOXUmhYQ",
    "outputId": "d46a5095-0530-4ec4-9100-7c503ca42b7c"
   },
   "outputs": [],
   "source": [
    "df_final = df_final.assign(review_counts=recent_counts)"
   ]
  },
  {
   "cell_type": "markdown",
   "metadata": {
    "colab_type": "text",
    "id": "H0XYUoPfoG8Y"
   },
   "source": [
    "The histogram of `count_of_review`."
   ]
  },
  {
   "cell_type": "code",
   "execution_count": 110,
   "metadata": {
    "colab": {
     "autoexec": {
      "startup": false,
      "wait_interval": 0
     }
    },
    "colab_type": "code",
    "id": "78G5csH3sS5w"
   },
   "outputs": [
    {
     "data": {
      "text/plain": [
       "<matplotlib.axes._subplots.AxesSubplot at 0x5fd973390>"
      ]
     },
     "execution_count": 110,
     "metadata": {},
     "output_type": "execute_result"
    },
    {
     "data": {
      "image/png": "[encoded data removed]",
      "text/plain": [
       "<matplotlib.figure.Figure at 0x5fd96cd30>"
      ]
     },
     "metadata": {},
     "output_type": "display_data"
    }
   ],
   "source": [
    "df_final.review_counts.hist()"
   ]
  },
  {
   "cell_type": "code",
   "execution_count": 111,
   "metadata": {
    "colab": {
     "autoexec": {
      "startup": false,
      "wait_interval": 0
     }
    },
    "colab_type": "code",
    "collapsed": true,
    "id": "ixl5kIGbJY1_"
   },
   "outputs": [],
   "source": [
    "X = df_final.drop(columns=['star_rating', 'host_id', 'id', 'review_counts'])\n",
    "y = (df_final['star_rating']<5) | (df_final['review_counts'] < 12)"
   ]
  },
  {
   "cell_type": "code",
   "execution_count": 112,
   "metadata": {},
   "outputs": [
    {
     "data": {
      "text/plain": [
       "0.46880907372400754"
      ]
     },
     "execution_count": 112,
     "metadata": {},
     "output_type": "execute_result"
    }
   ],
   "source": [
    "(y == True).mean()"
   ]
  },
  {
   "cell_type": "markdown",
   "metadata": {},
   "source": [
    "Then we have a dataset that's nearly balanced. Evaluate the six classifiers with the cross validation again."
   ]
  },
  {
   "cell_type": "code",
   "execution_count": 113,
   "metadata": {},
   "outputs": [
    {
     "data": {
      "text/plain": [
       "(2116, 31)"
      ]
     },
     "execution_count": 113,
     "metadata": {},
     "output_type": "execute_result"
    }
   ],
   "source": [
    "X.shape"
   ]
  },
  {
   "cell_type": "code",
   "execution_count": 130,
   "metadata": {
    "collapsed": true
   },
   "outputs": [],
   "source": [
    "N = len(X)\n",
    "idx_shuffle = permutation(N)\n",
    "X_test = X.iloc[idx_shuffle[:N//5]]\n",
    "y_test = y.iloc[idx_shuffle[:N//5]]\n",
    "X_train = X.iloc[idx_shuffle[N//5:]]\n",
    "y_train = y.iloc[idx_shuffle[N//5:]]"
   ]
  },
  {
   "cell_type": "code",
   "execution_count": 121,
   "metadata": {
    "collapsed": true
   },
   "outputs": [],
   "source": [
    "forest = RandomForestClassifier(n_estimators = 50, class_weight=None)\n",
    "knn = KNeighborsClassifier(n_neighbors=5)\n",
    "logreg = LogisticRegression(C=1e5, penalty='l2')\n",
    "grb = GradientBoostingClassifier(n_estimators = 50,learning_rate=0.1)\n",
    "svm = SVC(kernel='linear', C=0.8)\n",
    "ann = KerasClassifier(build_fn=ANN_model, epochs=80, batch_size=32, verbose=0)\n",
    "clf_dict = {'random forest': forest, 'KNN': knn, 'logistic regression': logreg, 'gradient boosting': grb, 'SVM': svm, 'ann':ann}\n",
    "clf_names = ['random forest', 'KNN', 'logistic regression', 'gradient boosting', 'SVM', 'ann']\n",
    "clfs = [clf_dict[name] for name in clf_names]\n",
    "accuracy, precisions, recalls = cv(X_train, y_train, clfs, k=5, smote=False)"
   ]
  },
  {
   "cell_type": "code",
   "execution_count": 124,
   "metadata": {
    "scrolled": false
   },
   "outputs": [
    {
     "data": {
      "image/png": "[encoded data removed]",
      "text/plain": [
       "<matplotlib.figure.Figure at 0x584178be0>"
      ]
     },
     "metadata": {},
     "output_type": "display_data"
    }
   ],
   "source": [
    "plt.figure(figsize=(10,4))\n",
    "index = np.arange(len(clf_names))\n",
    "bar_width = 0.2\n",
    "rects = plt.bar(index, accuracy.mean(axis=0), bar_width,color='cornflowerblue',alpha=0.7,label='Accuracy')\n",
    "rects_r = plt.bar(index+bar_width, recalls.mean(axis=0), bar_width,color='salmon',alpha=0.7,label='Recall')\n",
    "plt.xticks(index+bar_width, clf_names)\n",
    "plt.ylim(0,1)\n",
    "# plt.grid('off')\n",
    "plt.title('Average accuracy and recall of cv')\n",
    "plt.legend(bbox_to_anchor=(1.05, 1))\n",
    "for i in range(len(rects)):\n",
    "    rect = rects[i]\n",
    "    height = rect.get_height()\n",
    "    label = round(accuracy.mean(axis=0)[i],2)\n",
    "    plt.text(rect.get_x() + rect.get_width() / 2, height, label, ha='center', va='bottom')\n",
    "    rect = rects_r[i]\n",
    "    height = rect.get_height()\n",
    "    label = round(recalls.mean(axis=0)[i],2)\n",
    "    plt.text(rect.get_x() + rect.get_width() / 2, height, label, ha='center', va='bottom')"
   ]
  },
  {
   "cell_type": "markdown",
   "metadata": {},
   "source": [
    "Most classifiers can reach a accuracy of over 0.8 and a recall of over 0.7. Also test the classifiers on test set."
   ]
  },
  {
   "cell_type": "code",
   "execution_count": 131,
   "metadata": {},
   "outputs": [
    {
     "name": "stdout",
     "output_type": "stream",
     "text": [
      "accuracy: random forest 0.8557919621749409\n",
      "recall: random forest 0.785\n",
      "accuracy: logistic regression 0.8416075650118203\n",
      "recall: logistic regression 0.78\n",
      "accuracy: gradient boosting 0.8628841607565012\n",
      "recall: gradient boosting 0.78\n",
      "accuracy: SVM 0.8463356973995272\n",
      "recall: SVM 0.78\n"
     ]
    }
   ],
   "source": [
    "clf_names = ['random forest', 'logistic regression', 'gradient boosting', 'SVM']\n",
    "clfs = [clf_dict[name] for name in clf_names]\n",
    "col_names = ['bathrooms','bedrooms','beds','person_capacity', 'price', 'amenities_num',\n",
    "              'host_other_rating','crime_score','transit_score','walk_score', 'bike_score']\n",
    "con_features = X_train[col_names]\n",
    "disc_features = X_train.drop(columns=col_names)\n",
    "scaler = StandardScaler()\n",
    "scaler.fit(con_features)\n",
    "features_std_tr = scaler.transform(con_features)\n",
    "X_train = np.hstack((features_std_tr, disc_features))\n",
    "\n",
    "con_features = X_test[col_names]\n",
    "disc_features = X_test.drop(columns=col_names)\n",
    "features_std_tr = scaler.transform(con_features)\n",
    "X_test = np.hstack((features_std_tr, disc_features))\n",
    "for i, clf in enumerate(clfs):\n",
    "    clf.fit(X_train, y_train)\n",
    "    pred = clf.predict(X_test)\n",
    "    print('accuracy: %s'%clf_names[i], (pred==y_test).mean())\n",
    "    print('recall: %s'%clf_names[i], np.logical_and(pred, y_test).sum()/(y_test==True).sum())"
   ]
  },
  {
   "cell_type": "code",
   "execution_count": 132,
   "metadata": {
    "scrolled": false
   },
   "outputs": [
    {
     "data": {
      "image/png": "[encoded data removed]",
      "text/plain": [
       "<matplotlib.figure.Figure at 0x5858e6d30>"
      ]
     },
     "metadata": {},
     "output_type": "display_data"
    }
   ],
   "source": [
    "importances = forest.feature_importances_\n",
    "plt.figure(figsize=(15,6))\n",
    "index = np.arange(len(importances))\n",
    "bar_width = 0.5\n",
    "rects = plt.bar(index, importances,bar_width,color='cornflowerblue',alpha=0.7)\n",
    "names = list(X.drop(columns=col_names).columns)\n",
    "plt.xticks(index-bar_width/2, col_names+names, rotation=70)\n",
    "plt.title('Feature importance')\n",
    "# plt.grid('off')\n",
    "for i in range(len(rects)):\n",
    "    rect_rf = rects[i]\n",
    "    height_rf = rect_rf.get_height()\n",
    "    label_rf = round(importances[i],2)\n",
    "    plt.text(rect_rf.get_x() + rect_rf.get_width() / 2, height_rf, label_rf, ha='center', va='bottom')"
   ]
  },
  {
   "cell_type": "markdown",
   "metadata": {
    "colab_type": "text",
    "id": "-i7FOmenPhws"
   },
   "source": [
    "## Results\n",
    "When predict the quality of the listing by star rating, the ratings of other listings of the same hosting is a good reference, so almost all classifiers can perfectly distinguish the good listings and bad listings. When introducing the number of reviews to indicating popularity of the listing, the 'good' and 'bad' redefined. The accuracys of all classifiers can reach 0.8. We also evaluate the classifiers with recall, since we want to help users to avoid bad listings as much as possible. The best recalls are over 0.8 as well.  \n",
    "For feature importance, the average rating of the listings from the same host is still the most effective feature. However, the price becomes more important under this metric, which is the third most important feature."
   ]
  },
  {
   "cell_type": "markdown",
   "metadata": {
    "colab_type": "text",
    "id": "sxPVW_2FW9uj"
   },
   "source": [
    "### Word Cloud  <br>\n",
    "Since we have scraped the review data from Airbnb, we think the content of reviews can also be helpful to identify good listings. Thus, all the texts are tokenized and analyzed. We did a word cloud for both good listings and bad listings according to rating of the review.<br>\n",
    "To be specific, reviews for listings are in 5 scale rating with 5 the best, and 1 the worst. We only consider 5 as good listings and all the others as bad listings because people always give ratings below 5 for some reason that makes them not comfortable during their stay there. The code used to process listings are shown below. The general procedures are:\n",
    "-  tokenized the text\n",
    "- made two counters for good words and bad words\n",
    "- removed stop words and rarewords in the counter\n",
    "- identified indicator words and their counts \n",
    "- drew word cloud for both good words and bad words"
   ]
  },
  {
   "cell_type": "code",
   "execution_count": 0,
   "metadata": {
    "colab": {
     "autoexec": {
      "startup": false,
      "wait_interval": 0
     }
    },
    "colab_type": "code",
    "collapsed": true,
    "id": "oFgcK8BUP2jI"
   },
   "outputs": [],
   "source": [
    "def process(text, lemmatizer=nltk.stem.wordnet.WordNetLemmatizer()):\n",
    "    \"\"\" Normalizes case and handles punctuation\n",
    "    Inputs:\n",
    "        text: str: raw text\n",
    "        lemmatizer: an instance of a class implementing the lemmatize() method\n",
    "                    (nltk.stem.wordnet.WordNetLemmatizer)\n",
    "    Outputs:\n",
    "        list(str): tokenized text\n",
    "    \"\"\"\n",
    "    ans = []\n",
    "    new_text = text.lower()\n",
    "    new_text = new_text.replace(\"'s\", \"\")\n",
    "    new_text = new_text.replace(\"'\", \"\")\n",
    "    for p in string.punctuation:\n",
    "        new_text = new_text.replace(p, \" \")\n",
    "    tokens = nltk.word_tokenize(new_text)\n",
    "    for token in tokens:\n",
    "        try:\n",
    "            temp = lemmatizer.lemmatize(token)\n",
    "        except:\n",
    "            continue\n",
    "        ans.append(temp)\n",
    "    return ans\n",
    "\n",
    "def get_rare_words(review_text):\n",
    "    \"\"\" Find rare words in review texts\n",
    "    Inputs:\n",
    "        list of reviewe text\n",
    "    Outputs:\n",
    "        list(str): list of rare words, sorted alphabetically.\n",
    "    \"\"\"\n",
    "    count = Counter()\n",
    "    ans = []\n",
    "    for text in review_text:\n",
    "        count.update(text)\n",
    "    for key in count:\n",
    "        if count[key] == 1:\n",
    "            ans.append(key)\n",
    "    return sorted(ans)\n",
    "\n",
    "def process_all(reviews):\n",
    "    \"\"\" Process all reviews and return a list of review texts and ratings\n",
    "    Inputs:\n",
    "        reivews - a list of reviews with each review a dict scraped\n",
    "    Outputs:\n",
    "        ans - a list of reviwe texts\n",
    "        ratings - a list of review ratings\n",
    "    \"\"\"\n",
    "    ans = []\n",
    "    ratings = []\n",
    "    for review in reviews:\n",
    "        for r in review['reviews']:\n",
    "            ans.append(process(r['comments']))\n",
    "            ratings.append(r['rating'])\n",
    "    return ans, ratings\n",
    "\n",
    "def word_cloud(reviews):\n",
    "    \"\"\" Process all reviews to get counters of good words and bad words\n",
    "  Inputs:\n",
    "      reviews - a list of reviws with each review a dict scraped\n",
    "  Outputs:\n",
    "      good - a counter of good words\n",
    "      bad - a counter of bad words\n",
    "    \"\"\"\n",
    "    review_text, ratings = process_all(reviews)\n",
    "    rare_words = get_rare_words(review_text)\n",
    "    stop_words = nltk.corpus.stopwords.words('english')\n",
    "    stop_words.extend(rare_words)\n",
    "    \n",
    "    good = Counter()\n",
    "    bad = Counter()\n",
    "    for rating, text in zip(ratings, review_text):\n",
    "        if rating == 5:\n",
    "            good.update(text)\n",
    "        else:\n",
    "            bad.update(text)\n",
    "    for word in stop_words:\n",
    "        good[word], bad[word] = 0, 0\n",
    "    return good, bad\n",
    "\n",
    "def get_indicator(good, bad):\n",
    "    \"\"\" Get indicator words from counters of good words and bad words\n",
    "  Inputs:\n",
    "      good - a counter of good words\n",
    "      bad - a counter of bad words\n",
    "  Ouputs:\n",
    "      g - a counter of good indicator words\n",
    "      b - a counter of bad indicator words\n",
    "    \"\"\"\n",
    "    up = 20\n",
    "    low = 20\n",
    "    g, b = Counter(), Counter()\n",
    "    for key in good:\n",
    "        if good[key]>up and bad[key]<low:\n",
    "            g[key] = good[key]\n",
    "        elif bad[key]>up and good[key]<up:\n",
    "            b[key] = bad[key]\n",
    "    return g, b"
   ]
  },
  {
   "cell_type": "markdown",
   "metadata": {
    "colab_type": "text",
    "id": "W5A_sxcXAhcQ"
   },
   "source": [
    "Then we load our `reviews` and process them to see the results"
   ]
  },
  {
   "cell_type": "code",
   "execution_count": 0,
   "metadata": {
    "colab": {
     "autoexec": {
      "startup": false,
      "wait_interval": 0
     }
    },
    "colab_type": "code",
    "collapsed": true,
    "id": "PSZ6sK-Y_L8k"
   },
   "outputs": [],
   "source": [
    "reviews = json.loads(uploaded['reviews.json'].decode(\"utf-8\"))\n",
    "good, bad = word_cloud(reviews)\n",
    "g, b = get_indicator(good, bad)\n",
    "print('good words:', len(g), 'bad words:', len(b))\n",
    "print('good: ', [x[0] for x in g.most_common(20)])\n",
    "print('bad: ', [x[0] for x in b.most_common(20)])"
   ]
  },
  {
   "cell_type": "markdown",
   "metadata": {
    "colab_type": "text",
    "id": "FyX9yp_ZJZkx"
   },
   "source": [
    "Run above code and get outputs:\n",
    "\n",
    "```\n",
    "good words: 1600 bad words: 26\n",
    "good:  ['incredible', 'beautifully', 'john', 'spotless', 'fabulous', 'forward', 'gem', 'pleasure', 'adorable', 'chris', '100', 'outstanding', 'sarah', 'jennifer', 'chance', 'comfort', 'immaculate', 'fruit', 'terrific', 'tim']\n",
    "bad:  ['posting', 'automated', 'canceled', 'dirty', 'uncomfortable', 'trash', 'broken', 'fee', 'terrible', 'odor', 'assez', 'ant', 'frill', 'unsafe', 'sketchy', 'donc', 'prix', 'dusty', 'ac', 'drawback']\n",
    "```\n",
    "\n"
   ]
  },
  {
   "cell_type": "markdown",
   "metadata": {
    "colab_type": "text",
    "id": "pUuubHjDBB-b"
   },
   "source": [
    "From the results we can see that words in `good`are much more than  those in `bad`. From here we can tell that there are tons of reasons for a listing to be good while low ratings usually have similar reasons. This could be used to help hosts to improve their listings' quality or service quality. <br>\n",
    "At the same time, there are some names in good words. This means the good hosts might similar names. However, this should be confirmed with the overall distribution of the hosts' names. <br>\n",
    "At last, we saved our words into raw text files and used a [online tool](https://www.jasondavies.com/wordcloud/) to create word clouds for both good words and bad words. "
   ]
  },
  {
   "cell_type": "code",
   "execution_count": 0,
   "metadata": {
    "colab": {
     "autoexec": {
      "startup": false,
      "wait_interval": 0
     }
    },
    "colab_type": "code",
    "collapsed": true,
    "id": "uGbkJfjLFUmA"
   },
   "outputs": [],
   "source": [
    "s = ''\n",
    "for x in b:\n",
    "    temp = '%s '% x\n",
    "    s += b[x]*temp\n",
    "textfile = open('textfile1.txt', 'w', encoding='utf-8')\n",
    "textfile.write(s)\n",
    "textfile.close()\n",
    "s = ''\n",
    "for x in g:\n",
    "    temp = '%s '% x\n",
    "    s += g[x]*temp\n",
    "textfile = open('textfile1.txt', 'w', encoding='utf-8')\n",
    "textfile.write(s)\n",
    "textfile.close()"
   ]
  },
  {
   "cell_type": "markdown",
   "metadata": {
    "colab_type": "text",
    "id": "peorh0leGg-m"
   },
   "source": [
    "The word coulds are shown below.<br>\n",
    "**Word cloud for good words**\n",
    "![alt text](https://i.imgur.com/P9FI17s.png)\n",
    "**Word cloud of bad words**\n",
    "![alt text](https://i.imgur.com/ogc2p0Z.png)"
   ]
  },
  {
   "cell_type": "code",
   "execution_count": 0,
   "metadata": {
    "colab": {
     "autoexec": {
      "startup": false,
      "wait_interval": 0
     }
    },
    "colab_type": "code",
    "collapsed": true,
    "id": "eWjYsI7VGkTv"
   },
   "outputs": [],
   "source": []
  }
 ],
 "metadata": {
  "colab": {
   "collapsed_sections": [],
   "default_view": {},
   "name": "15688_wanniz_xianlal.ipynb",
   "provenance": [],
   "version": "0.3.2",
   "views": {}
  },
  "kernelspec": {
   "display_name": "Python 3",
   "language": "python",
   "name": "python3"
  },
  "language_info": {
   "codemirror_mode": {
    "name": "ipython",
    "version": 3
   },
   "file_extension": ".py",
   "mimetype": "text/x-python",
   "name": "python",
   "nbconvert_exporter": "python",
   "pygments_lexer": "ipython3",
   "version": "3.6.2"
  }
 },
 "nbformat": 4,
 "nbformat_minor": 1
}
